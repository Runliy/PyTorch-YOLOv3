{
 "cells": [
  {
   "cell_type": "code",
   "execution_count": 3,
   "metadata": {},
   "outputs": [
    {
     "name": "stdout",
     "output_type": "stream",
     "text": [
      "Azure ML SDK Version:  0.1.68\n"
     ]
    }
   ],
   "source": [
    "import azureml\n",
    "import json\n",
    "from azureml.core.model import Model\n",
    "from azureml.core import Workspace, Run\n",
    "\n",
    "# check core SDK version number\n",
    "print(\"Azure ML SDK Version: \", azureml.core.VERSION)"
   ]
  },
  {
   "cell_type": "code",
   "execution_count": 4,
   "metadata": {},
   "outputs": [
    {
     "name": "stdout",
     "output_type": "stream",
     "text": [
      "Wrote the config file config.json to: c:\\projects\\PyTorch-YOLOv3\\aml_config\\config.json\n",
      "Workspace configuration succeeded. You are all set!\n"
     ]
    }
   ],
   "source": [
    "# use this code to set up config file\n",
    "#subscription_id ='<SUB_ID>'\n",
    "#resource_group ='<RESOURCE_GROUP>'\n",
    "#workspace_name = '<WORKSPACE>'\n",
    "\n",
    "#try:\n",
    "#   ws = Workspace(subscription_id = subscription_id, resource_group = resource_group, workspace_name = workspace_name)\n",
    "#   ws.write_config()\n",
    "#   print('Workspace configuration succeeded. You are all set!')\n",
    "#except:\n",
    "#   print('Workspace not found. TOO MANY ISSUES!!!')\n",
    "ws = Workspace.from_config()"
   ]
  },
  {
   "cell_type": "markdown",
   "metadata": {},
   "source": [
    "# Managing Models\n",
    "This section is devoted to managin the YOLOv3 model in Azure Machine Learning service"
   ]
  },
  {
   "cell_type": "code",
   "execution_count": 3,
   "metadata": {},
   "outputs": [
    {
     "name": "stdout",
     "output_type": "stream",
     "text": [
      "sklearn_regression_model.pkl 1\n",
      "best_ridge_model 1\n",
      "sklearn_mnist 3\n",
      "best_model 1\n",
      "AutoMLef440bcfebest 1\n",
      "YOLOv3 2\n",
      "sklearn_mnist 2\n",
      "sklearn_mnist 1\n",
      "YOLOv3 1\n"
     ]
    }
   ],
   "source": [
    "models = Model.list(workspace=ws)\n",
    "for m in models:\n",
    "    print(m.name, m.version)"
   ]
  },
  {
   "cell_type": "code",
   "execution_count": 4,
   "metadata": {},
   "outputs": [
    {
     "name": "stdout",
     "output_type": "stream",
     "text": [
      "Registering model YOLOv3\n"
     ]
    },
    {
     "data": {
      "text/plain": [
       "<azureml.core.model.Model at 0x1fa29104908>"
      ]
     },
     "execution_count": 4,
     "metadata": {},
     "output_type": "execute_result"
    }
   ],
   "source": [
    "model_file = './model'\n",
    "m = Model.register(ws, model_name='YOLOv3', model_path=model_file)\n",
    "m"
   ]
  },
  {
   "cell_type": "markdown",
   "metadata": {},
   "source": [
    "# Managing Images\n",
    "Creating environment file"
   ]
  },
  {
   "cell_type": "code",
   "execution_count": 95,
   "metadata": {},
   "outputs": [
    {
     "name": "stdout",
     "output_type": "stream",
     "text": [
      "Adding \"pip install scikit-image\"\n",
      "Adding \"pip install numpy\"\n",
      "Adding \"pip install torch>=0.4.0\"\n",
      "Adding \"pip install torchvision\"\n",
      "Adding \"pip install pillow\"\n",
      "Adding \"pip install matplotlib\"\n",
      "Writing out yolov3.yml\n",
      "Done!\n"
     ]
    }
   ],
   "source": [
    "from azureml.core.conda_dependencies import CondaDependencies \n",
    "\n",
    "myenv = CondaDependencies()\n",
    "with open('./requirements.txt', 'r') as r:\n",
    "    deps = r.read().split('\\n')\n",
    "    deps = [x.rstrip().lstrip() for x in deps]\n",
    "    for item in deps:\n",
    "        if len(item) > 0:\n",
    "            print('Adding \"pip install {}\"'.format(item))\n",
    "            myenv.add_pip_package(item)\n",
    "\n",
    "yml = 'yolov3.yml'\n",
    "with open(yml,'w') as f:\n",
    "    print('Writing out {}'.format(yml))\n",
    "    f.write(myenv.serialize_to_string())\n",
    "    print('Done!')"
   ]
  },
  {
   "cell_type": "markdown",
   "metadata": {},
   "source": [
    "Creating Image"
   ]
  },
  {
   "cell_type": "code",
   "execution_count": 96,
   "metadata": {},
   "outputs": [
    {
     "name": "stdout",
     "output_type": "stream",
     "text": [
      "Creating image\n"
     ]
    }
   ],
   "source": [
    "from azureml.core.image import ContainerImage, Image\n",
    "image_config = ContainerImage.image_configuration(execution_script=\"score.py\", \n",
    "                                    runtime=\"python\", \n",
    "                                    conda_file=\"yolov3.yml\",\n",
    "                                    dependencies=['./models.py', './utils'], )\n",
    "\n",
    "\n",
    "image = Image.create(ws, 'yolov3', [m], image_config)"
   ]
  },
  {
   "cell_type": "code",
   "execution_count": 98,
   "metadata": {},
   "outputs": [
    {
     "name": "stdout",
     "output_type": "stream",
     "text": [
      "https://icebatcheastus.blob.core.windows.net/logs/hal5192063154_efe84fa0f11a4eeebd6543b698cde171.txt?sv=2017-04-17&sr=b&sig=qoXEmYVjd6/bF2dKh9%2BC4ESwxzWkW1XfZO1k2Zcs6%2Bk%3D&sp=r&se=2018-12-02T18%3A32%3A50Z\n"
     ]
    }
   ],
   "source": [
    "imgs =  ws.images()['yolov3']\n",
    "print(imgs.image_build_log_uri)"
   ]
  },
  {
   "cell_type": "markdown",
   "metadata": {},
   "source": [
    "# Deploying Image\n",
    "Deploy created image to ACI"
   ]
  },
  {
   "cell_type": "code",
   "execution_count": 99,
   "metadata": {},
   "outputs": [],
   "source": [
    "imgs =  ws.images()['yolov3']"
   ]
  },
  {
   "cell_type": "code",
   "execution_count": 100,
   "metadata": {},
   "outputs": [],
   "source": [
    "from azureml.core.webservice import AciWebservice\n",
    "from azureml.core.webservice import Webservice\n",
    "\n",
    "aciconfig = AciWebservice.deploy_configuration(cpu_cores=1, \n",
    "                                               memory_gb=1, \n",
    "                                               tags={\"data\": \"COCO\",  \"method\" : \"YOLOv3\"}, \n",
    "                                               description='object detection')\n",
    "\n"
   ]
  },
  {
   "cell_type": "code",
   "execution_count": 102,
   "metadata": {},
   "outputs": [
    {
     "name": "stdout",
     "output_type": "stream",
     "text": [
      "Creating service\n"
     ]
    }
   ],
   "source": [
    "service = Webservice.deploy_from_image(workspace=ws, \n",
    "                                       image=imgs, \n",
    "                                       name='yolov3-svc', \n",
    "                                       deployment_config=aciconfig)"
   ]
  },
  {
   "cell_type": "code",
   "execution_count": 31,
   "metadata": {},
   "outputs": [
    {
     "name": "stdout",
     "output_type": "stream",
     "text": [
      "None\n"
     ]
    }
   ],
   "source": [
    "print(service.scoring_uri)"
   ]
  },
  {
   "cell_type": "code",
   "execution_count": 73,
   "metadata": {},
   "outputs": [],
   "source": [
    "svc = ws.webservices()['yolov3-svc']"
   ]
  },
  {
   "cell_type": "code",
   "execution_count": 103,
   "metadata": {},
   "outputs": [
    {
     "name": "stdout",
     "output_type": "stream",
     "text": [
      "2018-11-02 18:42:30,359 CRIT Supervisor running as root (no user in config file)\n",
      "2018-11-02 18:42:30,361 INFO supervisord started with pid 1\n",
      "2018-11-02 18:42:31,362 INFO spawned: 'rsyslog' with pid 9\n",
      "2018-11-02 18:42:31,363 INFO spawned: 'program_exit' with pid 10\n",
      "2018-11-02 18:42:31,364 INFO spawned: 'nginx' with pid 11\n",
      "2018-11-02 18:42:31,365 INFO spawned: 'iot' with pid 12\n",
      "2018-11-02 18:42:31,367 INFO spawned: 'gunicorn' with pid 13\n",
      "2018-11-02 18:42:31,410 INFO success: iot entered RUNNING state, process has stayed up for > than 0 seconds (startsecs)\n",
      "EdgeHubConnectionString and IOTEDGE_IOTHUBHOSTNAME are not set. Exiting...\n",
      "2018-11-02 18:42:32,409 INFO success: rsyslog entered RUNNING state, process has stayed up for > than 1 seconds (startsecs)\n",
      "2018-11-02 18:42:32,409 INFO success: program_exit entered RUNNING state, process has stayed up for > than 1 seconds (startsecs)\n",
      "2018-11-02 18:42:32,410 INFO exited: iot (exit status 1; expected)\n",
      "2018-11-02 18:42:36,563 INFO success: nginx entered RUNNING state, process has stayed up for > than 5 seconds (startsecs)\n",
      "{\"level\": \"INFO\", \"stack_info\": null, \"msg\": \"Starting gunicorn %s\", \"timestamp\": \"2018-11-02T18:42:37.826913Z\", \"logger\": \"gunicorn.error\", \"tags\": \"%(module)s, %(asctime)s, %(levelname)s, %(message)s\", \"message\": \"Starting gunicorn 19.6.0\", \"host\": \"wk-caas-84af95c008154ee9b6f4d842fde34488-af6227ed774b29149a9e02\", \"path\": \"/home/mmlspark/lib/conda/lib/python3.5/site-packages/gunicorn/glogging.py\"}\n",
      "{\"level\": \"INFO\", \"stack_info\": null, \"msg\": \"Listening at: %s (%s)\", \"timestamp\": \"2018-11-02T18:42:37.827762Z\", \"logger\": \"gunicorn.error\", \"tags\": \"%(module)s, %(asctime)s, %(levelname)s, %(message)s\", \"message\": \"Listening at: http://127.0.0.1:9090 (13)\", \"host\": \"wk-caas-84af95c008154ee9b6f4d842fde34488-af6227ed774b29149a9e02\", \"path\": \"/home/mmlspark/lib/conda/lib/python3.5/site-packages/gunicorn/glogging.py\"}\n",
      "{\"level\": \"INFO\", \"stack_info\": null, \"msg\": \"Using worker: %s\", \"timestamp\": \"2018-11-02T18:42:37.827883Z\", \"logger\": \"gunicorn.error\", \"tags\": \"%(module)s, %(asctime)s, %(levelname)s, %(message)s\", \"message\": \"Using worker: sync\", \"host\": \"wk-caas-84af95c008154ee9b6f4d842fde34488-af6227ed774b29149a9e02\", \"path\": \"/home/mmlspark/lib/conda/lib/python3.5/site-packages/gunicorn/glogging.py\"}\n",
      "{\"level\": \"INFO\", \"stack_info\": null, \"timestamp\": \"2018-11-02T18:42:37.828952Z\", \"logger\": \"gunicorn.error\", \"tags\": \"%(module)s, %(asctime)s, %(levelname)s, %(message)s\", \"message\": \"worker timeout is set to 300\", \"host\": \"wk-caas-84af95c008154ee9b6f4d842fde34488-af6227ed774b29149a9e02\", \"path\": \"/home/mmlspark/lib/conda/lib/python3.5/site-packages/gunicorn/glogging.py\"}\n",
      "{\"level\": \"INFO\", \"stack_info\": null, \"msg\": \"Booting worker with pid: %s\", \"timestamp\": \"2018-11-02T18:42:37.829983Z\", \"logger\": \"gunicorn.error\", \"tags\": \"%(module)s, %(asctime)s, %(levelname)s, %(message)s\", \"message\": \"Booting worker with pid: 29\", \"host\": \"wk-caas-84af95c008154ee9b6f4d842fde34488-af6227ed774b29149a9e02\", \"path\": \"/home/mmlspark/lib/conda/lib/python3.5/site-packages/gunicorn/glogging.py\"}\n",
      "Initializing logger\n",
      "{\"level\": \"INFO\", \"stack_info\": null, \"timestamp\": \"2018-11-02T18:42:50.295596Z\", \"logger\": \"root\", \"tags\": \"%(module)s, %(asctime)s, %(levelname)s, %(message)s\", \"message\": \"{\\\"message\\\": \\\"Starting up app insights client\\\", \\\"requestId\\\": \\\"00000000-0000-0000-0000-000000000000\\\", \\\"apiName\\\": \\\"\\\"}\", \"host\": \"wk-caas-84af95c008154ee9b6f4d842fde34488-af6227ed774b29149a9e02\", \"path\": \"/var/azureml-app/aml_logger.py\"}\n",
      "{\"level\": \"INFO\", \"stack_info\": null, \"timestamp\": \"2018-11-02T18:42:50.295833Z\", \"logger\": \"root\", \"tags\": \"%(module)s, %(asctime)s, %(levelname)s, %(message)s\", \"message\": \"{\\\"message\\\": \\\"Starting up request id generator\\\", \\\"requestId\\\": \\\"00000000-0000-0000-0000-000000000000\\\", \\\"apiName\\\": \\\"\\\"}\", \"host\": \"wk-caas-84af95c008154ee9b6f4d842fde34488-af6227ed774b29149a9e02\", \"path\": \"/var/azureml-app/aml_logger.py\"}\n",
      "{\"level\": \"INFO\", \"stack_info\": null, \"timestamp\": \"2018-11-02T18:42:50.296090Z\", \"logger\": \"root\", \"tags\": \"%(module)s, %(asctime)s, %(levelname)s, %(message)s\", \"message\": \"{\\\"message\\\": \\\"Starting up app insight hooks\\\", \\\"requestId\\\": \\\"00000000-0000-0000-0000-000000000000\\\", \\\"apiName\\\": \\\"\\\"}\", \"host\": \"wk-caas-84af95c008154ee9b6f4d842fde34488-af6227ed774b29149a9e02\", \"path\": \"/var/azureml-app/aml_logger.py\"}\n",
      "{\"level\": \"INFO\", \"stack_info\": null, \"timestamp\": \"2018-11-02T18:42:50.296237Z\", \"logger\": \"root\", \"tags\": \"%(module)s, %(asctime)s, %(levelname)s, %(message)s\", \"message\": \"{\\\"message\\\": \\\"Invoking user's init function\\\", \\\"requestId\\\": \\\"00000000-0000-0000-0000-000000000000\\\", \\\"apiName\\\": \\\"\\\"}\", \"host\": \"wk-caas-84af95c008154ee9b6f4d842fde34488-af6227ed774b29149a9e02\", \"path\": \"/var/azureml-app/aml_logger.py\"}\n",
      "2018-11-02 18:42:50,297 | azureml.core.model | DEBUG | RunEnvironmentException: Failed to load a submitted run, if outside of an execution context, use project.start_run to initialize an azureml.core.Run.\n",
      "2018-11-02 18:42:50,297 | azureml.core.model | DEBUG | version is None. Latest version is 3\n",
      "2018-11-02 18:42:50,297 | azureml.core.model | DEBUG | Found model path at azureml-models/YOLOv3/3/model\n",
      "{\"level\": \"INFO\", \"stack_info\": null, \"timestamp\": \"2018-11-02T18:42:51.238882Z\", \"logger\": \"root\", \"tags\": \"%(module)s, %(asctime)s, %(levelname)s, %(message)s\", \"message\": \"{\\\"message\\\": \\\"Users's init has completed successfully\\\", \\\"requestId\\\": \\\"00000000-0000-0000-0000-000000000000\\\", \\\"apiName\\\": \\\"\\\"}\", \"host\": \"wk-caas-84af95c008154ee9b6f4d842fde34488-af6227ed774b29149a9e02\", \"path\": \"/var/azureml-app/aml_logger.py\"}\n",
      "{\"level\": \"INFO\", \"stack_info\": null, \"timestamp\": \"2018-11-02T18:42:51.239479Z\", \"logger\": \"root\", \"tags\": \"%(module)s, %(asctime)s, %(levelname)s, %(message)s\", \"message\": \"{\\\"message\\\": \\\"Scoring timeout setting is not found. Use default timeout: 3600000 ms\\\", \\\"requestId\\\": \\\"00000000-0000-0000-0000-000000000000\\\", \\\"apiName\\\": \\\"\\\"}\", \"host\": \"wk-caas-84af95c008154ee9b6f4d842fde34488-af6227ed774b29149a9e02\", \"path\": \"/var/azureml-app/aml_logger.py\"}\n",
      "{\"level\": \"INFO\", \"stack_info\": null, \"timestamp\": \"2018-11-02T18:42:51.241743Z\", \"logger\": \"gunicorn.access\", \"tags\": \"%(module)s, %(asctime)s, %(levelname)s, %(message)s\", \"message\": \"127.0.0.1 - - [02/Nov/2018:18:42:51 +0000] \\\"GET / HTTP/1.0\\\" 200 7 \\\"-\\\" \\\"Go-http-client/1.1\\\"\", \"host\": \"wk-caas-84af95c008154ee9b6f4d842fde34488-af6227ed774b29149a9e02\", \"path\": \"/home/mmlspark/lib/conda/lib/python3.5/site-packages/gunicorn/glogging.py\"}\n",
      "{\"level\": \"INFO\", \"stack_info\": null, \"timestamp\": \"2018-11-02T18:42:51.243025Z\", \"logger\": \"gunicorn.access\", \"tags\": \"%(module)s, %(asctime)s, %(levelname)s, %(message)s\", \"message\": \"127.0.0.1 - - [02/Nov/2018:18:42:51 +0000] \\\"GET / HTTP/1.0\\\" 200 7 \\\"-\\\" \\\"Go-http-client/1.1\\\"\", \"host\": \"wk-caas-84af95c008154ee9b6f4d842fde34488-af6227ed774b29149a9e02\", \"path\": \"/home/mmlspark/lib/conda/lib/python3.5/site-packages/gunicorn/glogging.py\"}\n",
      "{\"level\": \"INFO\", \"stack_info\": null, \"timestamp\": \"2018-11-02T18:42:51.244385Z\", \"logger\": \"gunicorn.access\", \"tags\": \"%(module)s, %(asctime)s, %(levelname)s, %(message)s\", \"message\": \"127.0.0.1 - - [02/Nov/2018:18:42:51 +0000] \\\"GET / HTTP/1.0\\\" 200 7 \\\"-\\\" \\\"Go-http-client/1.1\\\"\", \"host\": \"wk-caas-84af95c008154ee9b6f4d842fde34488-af6227ed774b29149a9e02\", \"path\": \"/home/mmlspark/lib/conda/lib/python3.5/site-packages/gunicorn/glogging.py\"}\n",
      "{\"level\": \"INFO\", \"stack_info\": null, \"timestamp\": \"2018-11-02T18:43:00.261984Z\", \"logger\": \"root\", \"tags\": \"%(module)s, %(asctime)s, %(levelname)s, %(message)s\", \"message\": \"{\\\"message\\\": \\\"Received input: {}\\\", \\\"requestId\\\": \\\"8c90bbe8-9349-4695-8da6-ca68f369db1f\\\", \\\"apiName\\\": \\\"/prediction\\\"}\", \"host\": \"wk-caas-84af95c008154ee9b6f4d842fde34488-af6227ed774b29149a9e02\", \"path\": \"/var/azureml-app/aml_logger.py\"}\n",
      "{\"level\": \"INFO\", \"stack_info\": null, \"timestamp\": \"2018-11-02T18:43:00.262391Z\", \"logger\": \"root\", \"tags\": \"%(module)s, %(asctime)s, %(levelname)s, %(message)s\", \"message\": \"{\\\"message\\\": \\\"Headers passed in (total 8):\\\", \\\"requestId\\\": \\\"8c90bbe8-9349-4695-8da6-ca68f369db1f\\\", \\\"apiName\\\": \\\"/prediction\\\"}\", \"host\": \"wk-caas-84af95c008154ee9b6f4d842fde34488-af6227ed774b29149a9e02\", \"path\": \"/var/azureml-app/aml_logger.py\"}\n",
      "{\"level\": \"INFO\", \"stack_info\": null, \"timestamp\": \"2018-11-02T18:43:00.262698Z\", \"logger\": \"root\", \"tags\": \"%(module)s, %(asctime)s, %(levelname)s, %(message)s\", \"message\": \"{\\\"message\\\": \\\"\\\\tX-Forwarded-For: 127.0.0.1\\\", \\\"requestId\\\": \\\"8c90bbe8-9349-4695-8da6-ca68f369db1f\\\", \\\"apiName\\\": \\\"/prediction\\\"}\", \"host\": \"wk-caas-84af95c008154ee9b6f4d842fde34488-af6227ed774b29149a9e02\", \"path\": \"/var/azureml-app/aml_logger.py\"}\n",
      "{\"level\": \"INFO\", \"stack_info\": null, \"timestamp\": \"2018-11-02T18:43:00.263056Z\", \"logger\": \"root\", \"tags\": \"%(module)s, %(asctime)s, %(levelname)s, %(message)s\", \"message\": \"{\\\"message\\\": \\\"\\\\tAccept-Encoding: gzip\\\", \\\"requestId\\\": \\\"8c90bbe8-9349-4695-8da6-ca68f369db1f\\\", \\\"apiName\\\": \\\"/prediction\\\"}\", \"host\": \"wk-caas-84af95c008154ee9b6f4d842fde34488-af6227ed774b29149a9e02\", \"path\": \"/var/azureml-app/aml_logger.py\"}\n",
      "{\"level\": \"INFO\", \"stack_info\": null, \"timestamp\": \"2018-11-02T18:43:00.263204Z\", \"logger\": \"root\", \"tags\": \"%(module)s, %(asctime)s, %(levelname)s, %(message)s\", \"message\": \"{\\\"message\\\": \\\"\\\\tX-Forwarded-Proto: http\\\", \\\"requestId\\\": \\\"8c90bbe8-9349-4695-8da6-ca68f369db1f\\\", \\\"apiName\\\": \\\"/prediction\\\"}\", \"host\": \"wk-caas-84af95c008154ee9b6f4d842fde34488-af6227ed774b29149a9e02\", \"path\": \"/var/azureml-app/aml_logger.py\"}\n",
      "{\"level\": \"INFO\", \"stack_info\": null, \"timestamp\": \"2018-11-02T18:43:00.263333Z\", \"logger\": \"root\", \"tags\": \"%(module)s, %(asctime)s, %(levelname)s, %(message)s\", \"message\": \"{\\\"message\\\": \\\"\\\\tConnection: close\\\", \\\"requestId\\\": \\\"8c90bbe8-9349-4695-8da6-ca68f369db1f\\\", \\\"apiName\\\": \\\"/prediction\\\"}\", \"host\": \"wk-caas-84af95c008154ee9b6f4d842fde34488-af6227ed774b29149a9e02\", \"path\": \"/var/azureml-app/aml_logger.py\"}\n",
      "{\"level\": \"INFO\", \"stack_info\": null, \"timestamp\": \"2018-11-02T18:43:00.263440Z\", \"logger\": \"root\", \"tags\": \"%(module)s, %(asctime)s, %(levelname)s, %(message)s\", \"message\": \"{\\\"message\\\": \\\"\\\\tHost: localhost:5001\\\", \\\"requestId\\\": \\\"8c90bbe8-9349-4695-8da6-ca68f369db1f\\\", \\\"apiName\\\": \\\"/prediction\\\"}\", \"host\": \"wk-caas-84af95c008154ee9b6f4d842fde34488-af6227ed774b29149a9e02\", \"path\": \"/var/azureml-app/aml_logger.py\"}\n",
      "{\"level\": \"INFO\", \"stack_info\": null, \"timestamp\": \"2018-11-02T18:43:00.273702Z\", \"logger\": \"root\", \"tags\": \"%(module)s, %(asctime)s, %(levelname)s, %(message)s\", \"message\": \"{\\\"message\\\": \\\"\\\\tX-Ms-Request-Id: 8c90bbe8-9349-4695-8da6-ca68f369db1f\\\", \\\"requestId\\\": \\\"8c90bbe8-9349-4695-8da6-ca68f369db1f\\\", \\\"apiName\\\": \\\"/prediction\\\"}\", \"host\": \"wk-caas-84af95c008154ee9b6f4d842fde34488-af6227ed774b29149a9e02\", \"path\": \"/var/azureml-app/aml_logger.py\"}\n",
      "{\"level\": \"INFO\", \"stack_info\": null, \"timestamp\": \"2018-11-02T18:43:00.274180Z\", \"logger\": \"root\", \"tags\": \"%(module)s, %(asctime)s, %(levelname)s, %(message)s\", \"message\": \"{\\\"message\\\": \\\"\\\\tX-Real-Ip: 127.0.0.1\\\", \\\"requestId\\\": \\\"8c90bbe8-9349-4695-8da6-ca68f369db1f\\\", \\\"apiName\\\": \\\"/prediction\\\"}\", \"host\": \"wk-caas-84af95c008154ee9b6f4d842fde34488-af6227ed774b29149a9e02\", \"path\": \"/var/azureml-app/aml_logger.py\"}\n",
      "{\"level\": \"INFO\", \"stack_info\": null, \"timestamp\": \"2018-11-02T18:43:00.274602Z\", \"logger\": \"root\", \"tags\": \"%(module)s, %(asctime)s, %(levelname)s, %(message)s\", \"message\": \"{\\\"message\\\": \\\"\\\\tUser-Agent: Go-http-client/1.1\\\", \\\"requestId\\\": \\\"8c90bbe8-9349-4695-8da6-ca68f369db1f\\\", \\\"apiName\\\": \\\"/prediction\\\"}\", \"host\": \"wk-caas-84af95c008154ee9b6f4d842fde34488-af6227ed774b29149a9e02\", \"path\": \"/var/azureml-app/aml_logger.py\"}\n",
      "{\"level\": \"INFO\", \"stack_info\": null, \"timestamp\": \"2018-11-02T18:43:00.275368Z\", \"logger\": \"root\", \"tags\": \"%(module)s, %(asctime)s, %(levelname)s, %(message)s\", \"message\": \"{\\\"message\\\": \\\"Scoring Timer is set to 3600.0 seconds\\\", \\\"requestId\\\": \\\"8c90bbe8-9349-4695-8da6-ca68f369db1f\\\", \\\"apiName\\\": \\\"/prediction\\\"}\", \"host\": \"wk-caas-84af95c008154ee9b6f4d842fde34488-af6227ed774b29149a9e02\", \"path\": \"/var/azureml-app/aml_logger.py\"}\n",
      "{\"level\": \"ERROR\", \"stack_info\": null, \"timestamp\": \"2018-11-02T18:43:00.276833Z\", \"logger\": \"root\", \"tags\": \"%(module)s, %(asctime)s, %(levelname)s, %(message)s\", \"message\": \"{\\\"message\\\": \\\"Encountered Exception: Traceback (most recent call last):\\\\n  File \\\\\\\"/var/azureml-app/app.py\\\\\\\", line 163, in run_scoring\\\\n    response = invoke_user_with_timer(service_input, request_headers)\\\\n  File \\\\\\\"/var/azureml-app/app.py\\\\\\\", line 219, in invoke_user_with_timer\\\\n    result = user_main.run(**params)\\\\n  File \\\\\\\"/var/azureml-app/main.py\\\\\\\", line 46, in run\\\\n    return_obj = driver_module.run(**arguments)\\\\n  File \\\\\\\"score.py\\\\\\\", line 56, in run\\\\n    img_path = json.loads(raw_data)['image']\\\\nKeyError: 'image'\\\\n\\\\nDuring handling of the above exception, another exception occurred:\\\\n\\\\nTraceback (most recent call last):\\\\n  File \\\\\\\"/home/mmlspark/lib/conda/lib/python3.5/site-packages/flask/app.py\\\\\\\", line 1639, in full_dispatch_request\\\\n    rv = self.dispatch_request()\\\\n  File \\\\\\\"/home/mmlspark/lib/conda/lib/python3.5/site-packages/flask/app.py\\\\\\\", line 1625, in dispatch_request\\\\n    return self.view_functions[rule.endpoint](**req.view_args)\\\\n  File \\\\\\\"/var/azureml-app/app.py\\\\\\\", line 64, in get_prediction_realtime\\\\n    return run_scoring(json.dumps(aml_input), request.headers)\\\\n  File \\\\\\\"/var/azureml-app/app.py\\\\\\\", line 175, in run_scoring\\\\n    raise RunFunctionException(str(exc))\\\\nrun_function_exception.RunFunctionException\\\\n\\\", \\\"requestId\\\": \\\"8c90bbe8-9349-4695-8da6-ca68f369db1f\\\", \\\"apiName\\\": \\\"/prediction\\\"}\", \"host\": \"wk-caas-84af95c008154ee9b6f4d842fde34488-af6227ed774b29149a9e02\", \"path\": \"/var/azureml-app/aml_logger.py\"}\n",
      "{\"level\": \"INFO\", \"stack_info\": null, \"timestamp\": \"2018-11-02T18:43:00.277237Z\", \"logger\": \"root\", \"tags\": \"%(module)s, %(asctime)s, %(levelname)s, %(message)s\", \"message\": \"{\\\"message\\\": 500, \\\"requestId\\\": \\\"8c90bbe8-9349-4695-8da6-ca68f369db1f\\\", \\\"apiName\\\": \\\"/prediction\\\"}\", \"host\": \"wk-caas-84af95c008154ee9b6f4d842fde34488-af6227ed774b29149a9e02\", \"path\": \"/var/azureml-app/aml_logger.py\"}\n",
      "{\"level\": \"INFO\", \"stack_info\": null, \"timestamp\": \"2018-11-02T18:43:00.277967Z\", \"logger\": \"gunicorn.access\", \"tags\": \"%(module)s, %(asctime)s, %(levelname)s, %(message)s\", \"message\": \"127.0.0.1 - - [02/Nov/2018:18:43:00 +0000] \\\"GET /score HTTP/1.0\\\" 500 7 \\\"-\\\" \\\"Go-http-client/1.1\\\"\", \"host\": \"wk-caas-84af95c008154ee9b6f4d842fde34488-af6227ed774b29149a9e02\", \"path\": \"/home/mmlspark/lib/conda/lib/python3.5/site-packages/gunicorn/glogging.py\"}\n",
      "{\"level\": \"INFO\", \"stack_info\": null, \"timestamp\": \"2018-11-02T18:43:00.617100Z\", \"logger\": \"gunicorn.access\", \"tags\": \"%(module)s, %(asctime)s, %(levelname)s, %(message)s\", \"message\": \"127.0.0.1 - - [02/Nov/2018:18:43:00 +0000] \\\"GET / HTTP/1.0\\\" 200 7 \\\"-\\\" \\\"Go-http-client/1.1\\\"\", \"host\": \"wk-caas-84af95c008154ee9b6f4d842fde34488-af6227ed774b29149a9e02\", \"path\": \"/home/mmlspark/lib/conda/lib/python3.5/site-packages/gunicorn/glogging.py\"}\n",
      "{\"level\": \"INFO\", \"stack_info\": null, \"timestamp\": \"2018-11-02T18:43:01.461143Z\", \"logger\": \"root\", \"tags\": \"%(module)s, %(asctime)s, %(levelname)s, %(message)s\", \"message\": \"{\\\"message\\\": \\\"Validation Request Content-Type\\\", \\\"requestId\\\": \\\"ed10bedd-4ee9-4c73-9580-7fbfab78d2d2\\\", \\\"apiName\\\": \\\"/score\\\"}\", \"host\": \"wk-caas-84af95c008154ee9b6f4d842fde34488-af6227ed774b29149a9e02\", \"path\": \"/var/azureml-app/aml_logger.py\"}\n",
      "{\"level\": \"INFO\", \"stack_info\": null, \"timestamp\": \"2018-11-02T18:43:01.461499Z\", \"logger\": \"root\", \"tags\": \"%(module)s, %(asctime)s, %(levelname)s, %(message)s\", \"message\": \"{\\\"message\\\": \\\"Received input: { \\\\\\\"image\\\\\\\":\\\\\\\"https://media.bizarrepedia.com/images/timothy-treadwell.jpg\\\\\\\" }\\\", \\\"requestId\\\": \\\"ed10bedd-4ee9-4c73-9580-7fbfab78d2d2\\\", \\\"apiName\\\": \\\"/score\\\"}\", \"host\": \"wk-caas-84af95c008154ee9b6f4d842fde34488-af6227ed774b29149a9e02\", \"path\": \"/var/azureml-app/aml_logger.py\"}\n",
      "{\"level\": \"INFO\", \"stack_info\": null, \"timestamp\": \"2018-11-02T18:43:01.461925Z\", \"logger\": \"root\", \"tags\": \"%(module)s, %(asctime)s, %(levelname)s, %(message)s\", \"message\": \"{\\\"message\\\": \\\"Headers passed in (total 11):\\\", \\\"requestId\\\": \\\"ed10bedd-4ee9-4c73-9580-7fbfab78d2d2\\\", \\\"apiName\\\": \\\"/score\\\"}\", \"host\": \"wk-caas-84af95c008154ee9b6f4d842fde34488-af6227ed774b29149a9e02\", \"path\": \"/var/azureml-app/aml_logger.py\"}\n",
      "{\"level\": \"INFO\", \"stack_info\": null, \"timestamp\": \"2018-11-02T18:43:01.462090Z\", \"logger\": \"root\", \"tags\": \"%(module)s, %(asctime)s, %(levelname)s, %(message)s\", \"message\": \"{\\\"message\\\": \\\"\\\\tX-Forwarded-For: 127.0.0.1\\\", \\\"requestId\\\": \\\"ed10bedd-4ee9-4c73-9580-7fbfab78d2d2\\\", \\\"apiName\\\": \\\"/score\\\"}\", \"host\": \"wk-caas-84af95c008154ee9b6f4d842fde34488-af6227ed774b29149a9e02\", \"path\": \"/var/azureml-app/aml_logger.py\"}\n",
      "{\"level\": \"INFO\", \"stack_info\": null, \"timestamp\": \"2018-11-02T18:43:01.462209Z\", \"logger\": \"root\", \"tags\": \"%(module)s, %(asctime)s, %(levelname)s, %(message)s\", \"message\": \"{\\\"message\\\": \\\"\\\\tAccept-Encoding: gzip\\\", \\\"requestId\\\": \\\"ed10bedd-4ee9-4c73-9580-7fbfab78d2d2\\\", \\\"apiName\\\": \\\"/score\\\"}\", \"host\": \"wk-caas-84af95c008154ee9b6f4d842fde34488-af6227ed774b29149a9e02\", \"path\": \"/var/azureml-app/aml_logger.py\"}\n",
      "{\"level\": \"INFO\", \"stack_info\": null, \"timestamp\": \"2018-11-02T18:43:01.462567Z\", \"logger\": \"root\", \"tags\": \"%(module)s, %(asctime)s, %(levelname)s, %(message)s\", \"message\": \"{\\\"message\\\": \\\"\\\\tContent-Length: 73\\\", \\\"requestId\\\": \\\"ed10bedd-4ee9-4c73-9580-7fbfab78d2d2\\\", \\\"apiName\\\": \\\"/score\\\"}\", \"host\": \"wk-caas-84af95c008154ee9b6f4d842fde34488-af6227ed774b29149a9e02\", \"path\": \"/var/azureml-app/aml_logger.py\"}\n",
      "{\"level\": \"INFO\", \"stack_info\": null, \"timestamp\": \"2018-11-02T18:43:01.462745Z\", \"logger\": \"root\", \"tags\": \"%(module)s, %(asctime)s, %(levelname)s, %(message)s\", \"message\": \"{\\\"message\\\": \\\"\\\\tX-Forwarded-Proto: http\\\", \\\"requestId\\\": \\\"ed10bedd-4ee9-4c73-9580-7fbfab78d2d2\\\", \\\"apiName\\\": \\\"/score\\\"}\", \"host\": \"wk-caas-84af95c008154ee9b6f4d842fde34488-af6227ed774b29149a9e02\", \"path\": \"/var/azureml-app/aml_logger.py\"}\n",
      "{\"level\": \"INFO\", \"stack_info\": null, \"timestamp\": \"2018-11-02T18:43:01.462848Z\", \"logger\": \"root\", \"tags\": \"%(module)s, %(asctime)s, %(levelname)s, %(message)s\", \"message\": \"{\\\"message\\\": \\\"\\\\tConnection: close\\\", \\\"requestId\\\": \\\"ed10bedd-4ee9-4c73-9580-7fbfab78d2d2\\\", \\\"apiName\\\": \\\"/score\\\"}\", \"host\": \"wk-caas-84af95c008154ee9b6f4d842fde34488-af6227ed774b29149a9e02\", \"path\": \"/var/azureml-app/aml_logger.py\"}\n",
      "{\"level\": \"INFO\", \"stack_info\": null, \"timestamp\": \"2018-11-02T18:43:01.463100Z\", \"logger\": \"root\", \"tags\": \"%(module)s, %(asctime)s, %(levelname)s, %(message)s\", \"message\": \"{\\\"message\\\": \\\"\\\\tHost: localhost:5001\\\", \\\"requestId\\\": \\\"ed10bedd-4ee9-4c73-9580-7fbfab78d2d2\\\", \\\"apiName\\\": \\\"/score\\\"}\", \"host\": \"wk-caas-84af95c008154ee9b6f4d842fde34488-af6227ed774b29149a9e02\", \"path\": \"/var/azureml-app/aml_logger.py\"}\n",
      "{\"level\": \"INFO\", \"stack_info\": null, \"timestamp\": \"2018-11-02T18:43:01.463400Z\", \"logger\": \"root\", \"tags\": \"%(module)s, %(asctime)s, %(levelname)s, %(message)s\", \"message\": \"{\\\"message\\\": \\\"\\\\tX-Ms-Request-Id: ed10bedd-4ee9-4c73-9580-7fbfab78d2d2\\\", \\\"requestId\\\": \\\"ed10bedd-4ee9-4c73-9580-7fbfab78d2d2\\\", \\\"apiName\\\": \\\"/score\\\"}\", \"host\": \"wk-caas-84af95c008154ee9b6f4d842fde34488-af6227ed774b29149a9e02\", \"path\": \"/var/azureml-app/aml_logger.py\"}\n",
      "{\"level\": \"INFO\", \"stack_info\": null, \"timestamp\": \"2018-11-02T18:43:01.463545Z\", \"logger\": \"root\", \"tags\": \"%(module)s, %(asctime)s, %(levelname)s, %(message)s\", \"message\": \"{\\\"message\\\": \\\"\\\\tX-Real-Ip: 127.0.0.1\\\", \\\"requestId\\\": \\\"ed10bedd-4ee9-4c73-9580-7fbfab78d2d2\\\", \\\"apiName\\\": \\\"/score\\\"}\", \"host\": \"wk-caas-84af95c008154ee9b6f4d842fde34488-af6227ed774b29149a9e02\", \"path\": \"/var/azureml-app/aml_logger.py\"}\n",
      "{\"level\": \"INFO\", \"stack_info\": null, \"timestamp\": \"2018-11-02T18:43:01.463679Z\", \"logger\": \"root\", \"tags\": \"%(module)s, %(asctime)s, %(levelname)s, %(message)s\", \"message\": \"{\\\"message\\\": \\\"\\\\tAccept: */*\\\", \\\"requestId\\\": \\\"ed10bedd-4ee9-4c73-9580-7fbfab78d2d2\\\", \\\"apiName\\\": \\\"/score\\\"}\", \"host\": \"wk-caas-84af95c008154ee9b6f4d842fde34488-af6227ed774b29149a9e02\", \"path\": \"/var/azureml-app/aml_logger.py\"}\n",
      "{\"level\": \"INFO\", \"stack_info\": null, \"timestamp\": \"2018-11-02T18:43:01.463952Z\", \"logger\": \"root\", \"tags\": \"%(module)s, %(asctime)s, %(levelname)s, %(message)s\", \"message\": \"{\\\"message\\\": \\\"\\\\tContent-Type: application/json\\\", \\\"requestId\\\": \\\"ed10bedd-4ee9-4c73-9580-7fbfab78d2d2\\\", \\\"apiName\\\": \\\"/score\\\"}\", \"host\": \"wk-caas-84af95c008154ee9b6f4d842fde34488-af6227ed774b29149a9e02\", \"path\": \"/var/azureml-app/aml_logger.py\"}\n",
      "{\"level\": \"INFO\", \"stack_info\": null, \"timestamp\": \"2018-11-02T18:43:01.464096Z\", \"logger\": \"root\", \"tags\": \"%(module)s, %(asctime)s, %(levelname)s, %(message)s\", \"message\": \"{\\\"message\\\": \\\"\\\\tUser-Agent: insomnia/5.16.6\\\", \\\"requestId\\\": \\\"ed10bedd-4ee9-4c73-9580-7fbfab78d2d2\\\", \\\"apiName\\\": \\\"/score\\\"}\", \"host\": \"wk-caas-84af95c008154ee9b6f4d842fde34488-af6227ed774b29149a9e02\", \"path\": \"/var/azureml-app/aml_logger.py\"}\n",
      "{\"level\": \"INFO\", \"stack_info\": null, \"timestamp\": \"2018-11-02T18:43:01.464314Z\", \"logger\": \"root\", \"tags\": \"%(module)s, %(asctime)s, %(levelname)s, %(message)s\", \"message\": \"{\\\"message\\\": \\\"Scoring Timer is set to 3600.0 seconds\\\", \\\"requestId\\\": \\\"ed10bedd-4ee9-4c73-9580-7fbfab78d2d2\\\", \\\"apiName\\\": \\\"/score\\\"}\", \"host\": \"wk-caas-84af95c008154ee9b6f4d842fde34488-af6227ed774b29149a9e02\", \"path\": \"/var/azureml-app/aml_logger.py\"}\n",
      "/home/mmlspark/lib/conda/lib/python3.5/site-packages/skimage/transform/_warps.py:110: UserWarning: Anti-aliasing will be enabled by default in skimage 0.15 to avoid aliasing artifacts when down-sampling images.\n",
      "  warn(\"Anti-aliasing will be enabled by default in skimage 0.15 to \"\n",
      "{\"logger\": \"logger_stderr\", \"message\": \"/home/mmlspark/lib/conda/lib/python3.5/site-packages/skimage/transform/_warps.py:110: UserWarning: Anti-aliasing will be enabled by default in skimage 0.15 to avoid aliasing artifacts when down-sampling images.\\n  warn(\\\"Anti-aliasing will be enabled by default in skimage 0.15 to \\\"\\n\", \"request_id\": \"ed10bedd-4ee9-4c73-9580-7fbfab78d2d2\", \"timestamp\": \"2018-11-02T18:43:01.645424\"}\n",
      "/home/mmlspark/lib/conda/lib/python3.5/site-packages/torch/nn/modules/upsampling.py:122: UserWarning: nn.Upsampling is deprecated. Use nn.functional.interpolate instead.\n",
      "  warnings.warn(\"nn.Upsampling is deprecated. Use nn.functional.interpolate instead.\")\n",
      "{\"logger\": \"logger_stderr\", \"message\": \"/home/mmlspark/lib/conda/lib/python3.5/site-packages/torch/nn/modules/upsampling.py:122: UserWarning: nn.Upsampling is deprecated. Use nn.functional.interpolate instead.\\n  warnings.warn(\\\"nn.Upsampling is deprecated. Use nn.functional.interpolate instead.\\\")\\n\", \"request_id\": \"ed10bedd-4ee9-4c73-9580-7fbfab78d2d2\", \"timestamp\": \"2018-11-02T18:43:03.186964\"}\n",
      "{\"level\": \"INFO\", \"stack_info\": null, \"timestamp\": \"2018-11-02T18:43:03.484436Z\", \"logger\": \"root\", \"tags\": \"%(module)s, %(asctime)s, %(levelname)s, %(message)s\", \"message\": \"{\\\"message\\\": 200, \\\"requestId\\\": \\\"ed10bedd-4ee9-4c73-9580-7fbfab78d2d2\\\", \\\"apiName\\\": \\\"/score\\\"}\", \"host\": \"wk-caas-84af95c008154ee9b6f4d842fde34488-af6227ed774b29149a9e02\", \"path\": \"/var/azureml-app/aml_logger.py\"}\n",
      "{\"level\": \"INFO\", \"stack_info\": null, \"timestamp\": \"2018-11-02T18:43:03.485022Z\", \"logger\": \"gunicorn.access\", \"tags\": \"%(module)s, %(asctime)s, %(levelname)s, %(message)s\", \"message\": \"127.0.0.1 - - [02/Nov/2018:18:43:03 +0000] \\\"POST /score HTTP/1.0\\\" 200 463 \\\"-\\\" \\\"insomnia/5.16.6\\\"\", \"host\": \"wk-caas-84af95c008154ee9b6f4d842fde34488-af6227ed774b29149a9e02\", \"path\": \"/home/mmlspark/lib/conda/lib/python3.5/site-packages/gunicorn/glogging.py\"}\n",
      "{\"level\": \"INFO\", \"stack_info\": null, \"timestamp\": \"2018-11-02T18:45:47.177327Z\", \"logger\": \"root\", \"tags\": \"%(module)s, %(asctime)s, %(levelname)s, %(message)s\", \"message\": \"{\\\"message\\\": \\\"Validation Request Content-Type\\\", \\\"requestId\\\": \\\"3119d731-a4c5-43d5-b9f1-2890a95fc87f\\\", \\\"apiName\\\": \\\"/score\\\"}\", \"host\": \"wk-caas-84af95c008154ee9b6f4d842fde34488-af6227ed774b29149a9e02\", \"path\": \"/var/azureml-app/aml_logger.py\"}\n",
      "{\"level\": \"INFO\", \"stack_info\": null, \"timestamp\": \"2018-11-02T18:45:47.177669Z\", \"logger\": \"root\", \"tags\": \"%(module)s, %(asctime)s, %(levelname)s, %(message)s\", \"message\": \"{\\\"message\\\": \\\"Received input: { \\\\\\\"image\\\\\\\":\\\\\\\"https://media.bizarrepedia.com/images/timothy-treadwell.jpg\\\\\\\" }\\\", \\\"requestId\\\": \\\"3119d731-a4c5-43d5-b9f1-2890a95fc87f\\\", \\\"apiName\\\": \\\"/score\\\"}\", \"host\": \"wk-caas-84af95c008154ee9b6f4d842fde34488-af6227ed774b29149a9e02\", \"path\": \"/var/azureml-app/aml_logger.py\"}\n",
      "{\"level\": \"INFO\", \"stack_info\": null, \"timestamp\": \"2018-11-02T18:45:47.177840Z\", \"logger\": \"root\", \"tags\": \"%(module)s, %(asctime)s, %(levelname)s, %(message)s\", \"message\": \"{\\\"message\\\": \\\"Headers passed in (total 11):\\\", \\\"requestId\\\": \\\"3119d731-a4c5-43d5-b9f1-2890a95fc87f\\\", \\\"apiName\\\": \\\"/score\\\"}\", \"host\": \"wk-caas-84af95c008154ee9b6f4d842fde34488-af6227ed774b29149a9e02\", \"path\": \"/var/azureml-app/aml_logger.py\"}\n",
      "{\"level\": \"INFO\", \"stack_info\": null, \"timestamp\": \"2018-11-02T18:45:47.177992Z\", \"logger\": \"root\", \"tags\": \"%(module)s, %(asctime)s, %(levelname)s, %(message)s\", \"message\": \"{\\\"message\\\": \\\"\\\\tX-Forwarded-For: 127.0.0.1\\\", \\\"requestId\\\": \\\"3119d731-a4c5-43d5-b9f1-2890a95fc87f\\\", \\\"apiName\\\": \\\"/score\\\"}\", \"host\": \"wk-caas-84af95c008154ee9b6f4d842fde34488-af6227ed774b29149a9e02\", \"path\": \"/var/azureml-app/aml_logger.py\"}\n",
      "{\"level\": \"INFO\", \"stack_info\": null, \"timestamp\": \"2018-11-02T18:45:47.178110Z\", \"logger\": \"root\", \"tags\": \"%(module)s, %(asctime)s, %(levelname)s, %(message)s\", \"message\": \"{\\\"message\\\": \\\"\\\\tAccept-Encoding: gzip\\\", \\\"requestId\\\": \\\"3119d731-a4c5-43d5-b9f1-2890a95fc87f\\\", \\\"apiName\\\": \\\"/score\\\"}\", \"host\": \"wk-caas-84af95c008154ee9b6f4d842fde34488-af6227ed774b29149a9e02\", \"path\": \"/var/azureml-app/aml_logger.py\"}\n",
      "{\"level\": \"INFO\", \"stack_info\": null, \"timestamp\": \"2018-11-02T18:45:47.178247Z\", \"logger\": \"root\", \"tags\": \"%(module)s, %(asctime)s, %(levelname)s, %(message)s\", \"message\": \"{\\\"message\\\": \\\"\\\\tContent-Length: 73\\\", \\\"requestId\\\": \\\"3119d731-a4c5-43d5-b9f1-2890a95fc87f\\\", \\\"apiName\\\": \\\"/score\\\"}\", \"host\": \"wk-caas-84af95c008154ee9b6f4d842fde34488-af6227ed774b29149a9e02\", \"path\": \"/var/azureml-app/aml_logger.py\"}\n",
      "{\"level\": \"INFO\", \"stack_info\": null, \"timestamp\": \"2018-11-02T18:45:47.178361Z\", \"logger\": \"root\", \"tags\": \"%(module)s, %(asctime)s, %(levelname)s, %(message)s\", \"message\": \"{\\\"message\\\": \\\"\\\\tX-Forwarded-Proto: http\\\", \\\"requestId\\\": \\\"3119d731-a4c5-43d5-b9f1-2890a95fc87f\\\", \\\"apiName\\\": \\\"/score\\\"}\", \"host\": \"wk-caas-84af95c008154ee9b6f4d842fde34488-af6227ed774b29149a9e02\", \"path\": \"/var/azureml-app/aml_logger.py\"}\n",
      "{\"level\": \"INFO\", \"stack_info\": null, \"timestamp\": \"2018-11-02T18:45:47.178495Z\", \"logger\": \"root\", \"tags\": \"%(module)s, %(asctime)s, %(levelname)s, %(message)s\", \"message\": \"{\\\"message\\\": \\\"\\\\tConnection: close\\\", \\\"requestId\\\": \\\"3119d731-a4c5-43d5-b9f1-2890a95fc87f\\\", \\\"apiName\\\": \\\"/score\\\"}\", \"host\": \"wk-caas-84af95c008154ee9b6f4d842fde34488-af6227ed774b29149a9e02\", \"path\": \"/var/azureml-app/aml_logger.py\"}\n",
      "{\"level\": \"INFO\", \"stack_info\": null, \"timestamp\": \"2018-11-02T18:45:47.178639Z\", \"logger\": \"root\", \"tags\": \"%(module)s, %(asctime)s, %(levelname)s, %(message)s\", \"message\": \"{\\\"message\\\": \\\"\\\\tHost: localhost:5001\\\", \\\"requestId\\\": \\\"3119d731-a4c5-43d5-b9f1-2890a95fc87f\\\", \\\"apiName\\\": \\\"/score\\\"}\", \"host\": \"wk-caas-84af95c008154ee9b6f4d842fde34488-af6227ed774b29149a9e02\", \"path\": \"/var/azureml-app/aml_logger.py\"}\n",
      "{\"level\": \"INFO\", \"stack_info\": null, \"timestamp\": \"2018-11-02T18:45:47.178753Z\", \"logger\": \"root\", \"tags\": \"%(module)s, %(asctime)s, %(levelname)s, %(message)s\", \"message\": \"{\\\"message\\\": \\\"\\\\tX-Ms-Request-Id: 3119d731-a4c5-43d5-b9f1-2890a95fc87f\\\", \\\"requestId\\\": \\\"3119d731-a4c5-43d5-b9f1-2890a95fc87f\\\", \\\"apiName\\\": \\\"/score\\\"}\", \"host\": \"wk-caas-84af95c008154ee9b6f4d842fde34488-af6227ed774b29149a9e02\", \"path\": \"/var/azureml-app/aml_logger.py\"}\n",
      "{\"level\": \"INFO\", \"stack_info\": null, \"timestamp\": \"2018-11-02T18:45:47.178885Z\", \"logger\": \"root\", \"tags\": \"%(module)s, %(asctime)s, %(levelname)s, %(message)s\", \"message\": \"{\\\"message\\\": \\\"\\\\tX-Real-Ip: 127.0.0.1\\\", \\\"requestId\\\": \\\"3119d731-a4c5-43d5-b9f1-2890a95fc87f\\\", \\\"apiName\\\": \\\"/score\\\"}\", \"host\": \"wk-caas-84af95c008154ee9b6f4d842fde34488-af6227ed774b29149a9e02\", \"path\": \"/var/azureml-app/aml_logger.py\"}\n",
      "{\"level\": \"INFO\", \"stack_info\": null, \"timestamp\": \"2018-11-02T18:45:47.178995Z\", \"logger\": \"root\", \"tags\": \"%(module)s, %(asctime)s, %(levelname)s, %(message)s\", \"message\": \"{\\\"message\\\": \\\"\\\\tAccept: */*\\\", \\\"requestId\\\": \\\"3119d731-a4c5-43d5-b9f1-2890a95fc87f\\\", \\\"apiName\\\": \\\"/score\\\"}\", \"host\": \"wk-caas-84af95c008154ee9b6f4d842fde34488-af6227ed774b29149a9e02\", \"path\": \"/var/azureml-app/aml_logger.py\"}\n",
      "{\"level\": \"INFO\", \"stack_info\": null, \"timestamp\": \"2018-11-02T18:45:47.179122Z\", \"logger\": \"root\", \"tags\": \"%(module)s, %(asctime)s, %(levelname)s, %(message)s\", \"message\": \"{\\\"message\\\": \\\"\\\\tContent-Type: application/json\\\", \\\"requestId\\\": \\\"3119d731-a4c5-43d5-b9f1-2890a95fc87f\\\", \\\"apiName\\\": \\\"/score\\\"}\", \"host\": \"wk-caas-84af95c008154ee9b6f4d842fde34488-af6227ed774b29149a9e02\", \"path\": \"/var/azureml-app/aml_logger.py\"}\n",
      "{\"level\": \"INFO\", \"stack_info\": null, \"timestamp\": \"2018-11-02T18:45:47.179232Z\", \"logger\": \"root\", \"tags\": \"%(module)s, %(asctime)s, %(levelname)s, %(message)s\", \"message\": \"{\\\"message\\\": \\\"\\\\tUser-Agent: insomnia/5.16.6\\\", \\\"requestId\\\": \\\"3119d731-a4c5-43d5-b9f1-2890a95fc87f\\\", \\\"apiName\\\": \\\"/score\\\"}\", \"host\": \"wk-caas-84af95c008154ee9b6f4d842fde34488-af6227ed774b29149a9e02\", \"path\": \"/var/azureml-app/aml_logger.py\"}\n",
      "{\"level\": \"INFO\", \"stack_info\": null, \"timestamp\": \"2018-11-02T18:45:47.179476Z\", \"logger\": \"root\", \"tags\": \"%(module)s, %(asctime)s, %(levelname)s, %(message)s\", \"message\": \"{\\\"message\\\": \\\"Scoring Timer is set to 3600.0 seconds\\\", \\\"requestId\\\": \\\"3119d731-a4c5-43d5-b9f1-2890a95fc87f\\\", \\\"apiName\\\": \\\"/score\\\"}\", \"host\": \"wk-caas-84af95c008154ee9b6f4d842fde34488-af6227ed774b29149a9e02\", \"path\": \"/var/azureml-app/aml_logger.py\"}\n",
      "{\"level\": \"INFO\", \"stack_info\": null, \"timestamp\": \"2018-11-02T18:45:49.085416Z\", \"logger\": \"root\", \"tags\": \"%(module)s, %(asctime)s, %(levelname)s, %(message)s\", \"message\": \"{\\\"message\\\": 200, \\\"requestId\\\": \\\"3119d731-a4c5-43d5-b9f1-2890a95fc87f\\\", \\\"apiName\\\": \\\"/score\\\"}\", \"host\": \"wk-caas-84af95c008154ee9b6f4d842fde34488-af6227ed774b29149a9e02\", \"path\": \"/var/azureml-app/aml_logger.py\"}\n",
      "{\"level\": \"INFO\", \"stack_info\": null, \"timestamp\": \"2018-11-02T18:45:49.086065Z\", \"logger\": \"gunicorn.access\", \"tags\": \"%(module)s, %(asctime)s, %(levelname)s, %(message)s\", \"message\": \"127.0.0.1 - - [02/Nov/2018:18:45:49 +0000] \\\"POST /score HTTP/1.0\\\" 200 463 \\\"-\\\" \\\"insomnia/5.16.6\\\"\", \"host\": \"wk-caas-84af95c008154ee9b6f4d842fde34488-af6227ed774b29149a9e02\", \"path\": \"/home/mmlspark/lib/conda/lib/python3.5/site-packages/gunicorn/glogging.py\"}\n",
      "{\"level\": \"INFO\", \"stack_info\": null, \"timestamp\": \"2018-11-02T18:48:22.375294Z\", \"logger\": \"root\", \"tags\": \"%(module)s, %(asctime)s, %(levelname)s, %(message)s\", \"message\": \"{\\\"message\\\": \\\"Validation Request Content-Type\\\", \\\"requestId\\\": \\\"c5ae3ec6-7e08-485b-a7a6-45b4205cc82e\\\", \\\"apiName\\\": \\\"/score\\\"}\", \"host\": \"wk-caas-84af95c008154ee9b6f4d842fde34488-af6227ed774b29149a9e02\", \"path\": \"/var/azureml-app/aml_logger.py\"}\n",
      "{\"level\": \"INFO\", \"stack_info\": null, \"timestamp\": \"2018-11-02T18:48:22.375628Z\", \"logger\": \"root\", \"tags\": \"%(module)s, %(asctime)s, %(levelname)s, %(message)s\", \"message\": \"{\\\"message\\\": \\\"Received input: { \\\\\\\"image\\\\\\\":\\\\\\\"https://media.bizarrepedia.com/images/timothy-treadwell.jpg\\\\\\\" }\\\", \\\"requestId\\\": \\\"c5ae3ec6-7e08-485b-a7a6-45b4205cc82e\\\", \\\"apiName\\\": \\\"/score\\\"}\", \"host\": \"wk-caas-84af95c008154ee9b6f4d842fde34488-af6227ed774b29149a9e02\", \"path\": \"/var/azureml-app/aml_logger.py\"}\n",
      "{\"level\": \"INFO\", \"stack_info\": null, \"timestamp\": \"2018-11-02T18:48:22.375797Z\", \"logger\": \"root\", \"tags\": \"%(module)s, %(asctime)s, %(levelname)s, %(message)s\", \"message\": \"{\\\"message\\\": \\\"Headers passed in (total 11):\\\", \\\"requestId\\\": \\\"c5ae3ec6-7e08-485b-a7a6-45b4205cc82e\\\", \\\"apiName\\\": \\\"/score\\\"}\", \"host\": \"wk-caas-84af95c008154ee9b6f4d842fde34488-af6227ed774b29149a9e02\", \"path\": \"/var/azureml-app/aml_logger.py\"}\n",
      "{\"level\": \"INFO\", \"stack_info\": null, \"timestamp\": \"2018-11-02T18:48:22.375939Z\", \"logger\": \"root\", \"tags\": \"%(module)s, %(asctime)s, %(levelname)s, %(message)s\", \"message\": \"{\\\"message\\\": \\\"\\\\tX-Forwarded-For: 127.0.0.1\\\", \\\"requestId\\\": \\\"c5ae3ec6-7e08-485b-a7a6-45b4205cc82e\\\", \\\"apiName\\\": \\\"/score\\\"}\", \"host\": \"wk-caas-84af95c008154ee9b6f4d842fde34488-af6227ed774b29149a9e02\", \"path\": \"/var/azureml-app/aml_logger.py\"}\n",
      "{\"level\": \"INFO\", \"stack_info\": null, \"timestamp\": \"2018-11-02T18:48:22.376055Z\", \"logger\": \"root\", \"tags\": \"%(module)s, %(asctime)s, %(levelname)s, %(message)s\", \"message\": \"{\\\"message\\\": \\\"\\\\tAccept-Encoding: gzip\\\", \\\"requestId\\\": \\\"c5ae3ec6-7e08-485b-a7a6-45b4205cc82e\\\", \\\"apiName\\\": \\\"/score\\\"}\", \"host\": \"wk-caas-84af95c008154ee9b6f4d842fde34488-af6227ed774b29149a9e02\", \"path\": \"/var/azureml-app/aml_logger.py\"}\n",
      "{\"level\": \"INFO\", \"stack_info\": null, \"timestamp\": \"2018-11-02T18:48:22.376173Z\", \"logger\": \"root\", \"tags\": \"%(module)s, %(asctime)s, %(levelname)s, %(message)s\", \"message\": \"{\\\"message\\\": \\\"\\\\tContent-Length: 73\\\", \\\"requestId\\\": \\\"c5ae3ec6-7e08-485b-a7a6-45b4205cc82e\\\", \\\"apiName\\\": \\\"/score\\\"}\", \"host\": \"wk-caas-84af95c008154ee9b6f4d842fde34488-af6227ed774b29149a9e02\", \"path\": \"/var/azureml-app/aml_logger.py\"}\n",
      "{\"level\": \"INFO\", \"stack_info\": null, \"timestamp\": \"2018-11-02T18:48:22.376312Z\", \"logger\": \"root\", \"tags\": \"%(module)s, %(asctime)s, %(levelname)s, %(message)s\", \"message\": \"{\\\"message\\\": \\\"\\\\tX-Forwarded-Proto: http\\\", \\\"requestId\\\": \\\"c5ae3ec6-7e08-485b-a7a6-45b4205cc82e\\\", \\\"apiName\\\": \\\"/score\\\"}\", \"host\": \"wk-caas-84af95c008154ee9b6f4d842fde34488-af6227ed774b29149a9e02\", \"path\": \"/var/azureml-app/aml_logger.py\"}\n",
      "{\"level\": \"INFO\", \"stack_info\": null, \"timestamp\": \"2018-11-02T18:48:22.376422Z\", \"logger\": \"root\", \"tags\": \"%(module)s, %(asctime)s, %(levelname)s, %(message)s\", \"message\": \"{\\\"message\\\": \\\"\\\\tConnection: close\\\", \\\"requestId\\\": \\\"c5ae3ec6-7e08-485b-a7a6-45b4205cc82e\\\", \\\"apiName\\\": \\\"/score\\\"}\", \"host\": \"wk-caas-84af95c008154ee9b6f4d842fde34488-af6227ed774b29149a9e02\", \"path\": \"/var/azureml-app/aml_logger.py\"}\n",
      "{\"level\": \"INFO\", \"stack_info\": null, \"timestamp\": \"2018-11-02T18:48:22.376560Z\", \"logger\": \"root\", \"tags\": \"%(module)s, %(asctime)s, %(levelname)s, %(message)s\", \"message\": \"{\\\"message\\\": \\\"\\\\tHost: localhost:5001\\\", \\\"requestId\\\": \\\"c5ae3ec6-7e08-485b-a7a6-45b4205cc82e\\\", \\\"apiName\\\": \\\"/score\\\"}\", \"host\": \"wk-caas-84af95c008154ee9b6f4d842fde34488-af6227ed774b29149a9e02\", \"path\": \"/var/azureml-app/aml_logger.py\"}\n",
      "{\"level\": \"INFO\", \"stack_info\": null, \"timestamp\": \"2018-11-02T18:48:22.376659Z\", \"logger\": \"root\", \"tags\": \"%(module)s, %(asctime)s, %(levelname)s, %(message)s\", \"message\": \"{\\\"message\\\": \\\"\\\\tX-Ms-Request-Id: c5ae3ec6-7e08-485b-a7a6-45b4205cc82e\\\", \\\"requestId\\\": \\\"c5ae3ec6-7e08-485b-a7a6-45b4205cc82e\\\", \\\"apiName\\\": \\\"/score\\\"}\", \"host\": \"wk-caas-84af95c008154ee9b6f4d842fde34488-af6227ed774b29149a9e02\", \"path\": \"/var/azureml-app/aml_logger.py\"}\n",
      "{\"level\": \"INFO\", \"stack_info\": null, \"timestamp\": \"2018-11-02T18:48:22.376801Z\", \"logger\": \"root\", \"tags\": \"%(module)s, %(asctime)s, %(levelname)s, %(message)s\", \"message\": \"{\\\"message\\\": \\\"\\\\tX-Real-Ip: 127.0.0.1\\\", \\\"requestId\\\": \\\"c5ae3ec6-7e08-485b-a7a6-45b4205cc82e\\\", \\\"apiName\\\": \\\"/score\\\"}\", \"host\": \"wk-caas-84af95c008154ee9b6f4d842fde34488-af6227ed774b29149a9e02\", \"path\": \"/var/azureml-app/aml_logger.py\"}\n",
      "{\"level\": \"INFO\", \"stack_info\": null, \"timestamp\": \"2018-11-02T18:48:22.376926Z\", \"logger\": \"root\", \"tags\": \"%(module)s, %(asctime)s, %(levelname)s, %(message)s\", \"message\": \"{\\\"message\\\": \\\"\\\\tAccept: */*\\\", \\\"requestId\\\": \\\"c5ae3ec6-7e08-485b-a7a6-45b4205cc82e\\\", \\\"apiName\\\": \\\"/score\\\"}\", \"host\": \"wk-caas-84af95c008154ee9b6f4d842fde34488-af6227ed774b29149a9e02\", \"path\": \"/var/azureml-app/aml_logger.py\"}\n",
      "{\"level\": \"INFO\", \"stack_info\": null, \"timestamp\": \"2018-11-02T18:48:22.377033Z\", \"logger\": \"root\", \"tags\": \"%(module)s, %(asctime)s, %(levelname)s, %(message)s\", \"message\": \"{\\\"message\\\": \\\"\\\\tContent-Type: application/json\\\", \\\"requestId\\\": \\\"c5ae3ec6-7e08-485b-a7a6-45b4205cc82e\\\", \\\"apiName\\\": \\\"/score\\\"}\", \"host\": \"wk-caas-84af95c008154ee9b6f4d842fde34488-af6227ed774b29149a9e02\", \"path\": \"/var/azureml-app/aml_logger.py\"}\n",
      "{\"level\": \"INFO\", \"stack_info\": null, \"timestamp\": \"2018-11-02T18:48:22.377157Z\", \"logger\": \"root\", \"tags\": \"%(module)s, %(asctime)s, %(levelname)s, %(message)s\", \"message\": \"{\\\"message\\\": \\\"\\\\tUser-Agent: insomnia/5.16.6\\\", \\\"requestId\\\": \\\"c5ae3ec6-7e08-485b-a7a6-45b4205cc82e\\\", \\\"apiName\\\": \\\"/score\\\"}\", \"host\": \"wk-caas-84af95c008154ee9b6f4d842fde34488-af6227ed774b29149a9e02\", \"path\": \"/var/azureml-app/aml_logger.py\"}\n",
      "{\"level\": \"INFO\", \"stack_info\": null, \"timestamp\": \"2018-11-02T18:48:22.377431Z\", \"logger\": \"root\", \"tags\": \"%(module)s, %(asctime)s, %(levelname)s, %(message)s\", \"message\": \"{\\\"message\\\": \\\"Scoring Timer is set to 3600.0 seconds\\\", \\\"requestId\\\": \\\"c5ae3ec6-7e08-485b-a7a6-45b4205cc82e\\\", \\\"apiName\\\": \\\"/score\\\"}\", \"host\": \"wk-caas-84af95c008154ee9b6f4d842fde34488-af6227ed774b29149a9e02\", \"path\": \"/var/azureml-app/aml_logger.py\"}\n",
      "{\"level\": \"INFO\", \"stack_info\": null, \"timestamp\": \"2018-11-02T18:48:24.218194Z\", \"logger\": \"root\", \"tags\": \"%(module)s, %(asctime)s, %(levelname)s, %(message)s\", \"message\": \"{\\\"message\\\": 200, \\\"requestId\\\": \\\"c5ae3ec6-7e08-485b-a7a6-45b4205cc82e\\\", \\\"apiName\\\": \\\"/score\\\"}\", \"host\": \"wk-caas-84af95c008154ee9b6f4d842fde34488-af6227ed774b29149a9e02\", \"path\": \"/var/azureml-app/aml_logger.py\"}\n",
      "{\"level\": \"INFO\", \"stack_info\": null, \"timestamp\": \"2018-11-02T18:48:24.218826Z\", \"logger\": \"gunicorn.access\", \"tags\": \"%(module)s, %(asctime)s, %(levelname)s, %(message)s\", \"message\": \"127.0.0.1 - - [02/Nov/2018:18:48:24 +0000] \\\"POST /score HTTP/1.0\\\" 200 463 \\\"-\\\" \\\"insomnia/5.16.6\\\"\", \"host\": \"wk-caas-84af95c008154ee9b6f4d842fde34488-af6227ed774b29149a9e02\", \"path\": \"/home/mmlspark/lib/conda/lib/python3.5/site-packages/gunicorn/glogging.py\"}\n",
      "{\"level\": \"INFO\", \"stack_info\": null, \"timestamp\": \"2018-11-02T19:34:00.576797Z\", \"logger\": \"root\", \"tags\": \"%(module)s, %(asctime)s, %(levelname)s, %(message)s\", \"message\": \"{\\\"message\\\": \\\"Validation Request Content-Type\\\", \\\"requestId\\\": \\\"abf6f6c4-9056-417b-a772-4d7fb7c575bf\\\", \\\"apiName\\\": \\\"/score\\\"}\", \"host\": \"wk-caas-84af95c008154ee9b6f4d842fde34488-af6227ed774b29149a9e02\", \"path\": \"/var/azureml-app/aml_logger.py\"}\n",
      "{\"level\": \"INFO\", \"stack_info\": null, \"timestamp\": \"2018-11-02T19:34:00.577130Z\", \"logger\": \"root\", \"tags\": \"%(module)s, %(asctime)s, %(levelname)s, %(message)s\", \"message\": \"{\\\"message\\\": \\\"Received input: { \\\\\\\"image\\\\\\\":\\\\\\\"https://media.bizarrepedia.com/images/timothy-treadwell.jpg\\\\\\\" }\\\", \\\"requestId\\\": \\\"abf6f6c4-9056-417b-a772-4d7fb7c575bf\\\", \\\"apiName\\\": \\\"/score\\\"}\", \"host\": \"wk-caas-84af95c008154ee9b6f4d842fde34488-af6227ed774b29149a9e02\", \"path\": \"/var/azureml-app/aml_logger.py\"}\n",
      "{\"level\": \"INFO\", \"stack_info\": null, \"timestamp\": \"2018-11-02T19:34:00.577337Z\", \"logger\": \"root\", \"tags\": \"%(module)s, %(asctime)s, %(levelname)s, %(message)s\", \"message\": \"{\\\"message\\\": \\\"Headers passed in (total 11):\\\", \\\"requestId\\\": \\\"abf6f6c4-9056-417b-a772-4d7fb7c575bf\\\", \\\"apiName\\\": \\\"/score\\\"}\", \"host\": \"wk-caas-84af95c008154ee9b6f4d842fde34488-af6227ed774b29149a9e02\", \"path\": \"/var/azureml-app/aml_logger.py\"}\n",
      "{\"level\": \"INFO\", \"stack_info\": null, \"timestamp\": \"2018-11-02T19:34:00.577456Z\", \"logger\": \"root\", \"tags\": \"%(module)s, %(asctime)s, %(levelname)s, %(message)s\", \"message\": \"{\\\"message\\\": \\\"\\\\tX-Forwarded-For: 127.0.0.1\\\", \\\"requestId\\\": \\\"abf6f6c4-9056-417b-a772-4d7fb7c575bf\\\", \\\"apiName\\\": \\\"/score\\\"}\", \"host\": \"wk-caas-84af95c008154ee9b6f4d842fde34488-af6227ed774b29149a9e02\", \"path\": \"/var/azureml-app/aml_logger.py\"}\n",
      "{\"level\": \"INFO\", \"stack_info\": null, \"timestamp\": \"2018-11-02T19:34:00.577564Z\", \"logger\": \"root\", \"tags\": \"%(module)s, %(asctime)s, %(levelname)s, %(message)s\", \"message\": \"{\\\"message\\\": \\\"\\\\tAccept-Encoding: gzip\\\", \\\"requestId\\\": \\\"abf6f6c4-9056-417b-a772-4d7fb7c575bf\\\", \\\"apiName\\\": \\\"/score\\\"}\", \"host\": \"wk-caas-84af95c008154ee9b6f4d842fde34488-af6227ed774b29149a9e02\", \"path\": \"/var/azureml-app/aml_logger.py\"}\n",
      "{\"level\": \"INFO\", \"stack_info\": null, \"timestamp\": \"2018-11-02T19:34:00.577713Z\", \"logger\": \"root\", \"tags\": \"%(module)s, %(asctime)s, %(levelname)s, %(message)s\", \"message\": \"{\\\"message\\\": \\\"\\\\tContent-Length: 73\\\", \\\"requestId\\\": \\\"abf6f6c4-9056-417b-a772-4d7fb7c575bf\\\", \\\"apiName\\\": \\\"/score\\\"}\", \"host\": \"wk-caas-84af95c008154ee9b6f4d842fde34488-af6227ed774b29149a9e02\", \"path\": \"/var/azureml-app/aml_logger.py\"}\n",
      "{\"level\": \"INFO\", \"stack_info\": null, \"timestamp\": \"2018-11-02T19:34:00.577823Z\", \"logger\": \"root\", \"tags\": \"%(module)s, %(asctime)s, %(levelname)s, %(message)s\", \"message\": \"{\\\"message\\\": \\\"\\\\tX-Forwarded-Proto: http\\\", \\\"requestId\\\": \\\"abf6f6c4-9056-417b-a772-4d7fb7c575bf\\\", \\\"apiName\\\": \\\"/score\\\"}\", \"host\": \"wk-caas-84af95c008154ee9b6f4d842fde34488-af6227ed774b29149a9e02\", \"path\": \"/var/azureml-app/aml_logger.py\"}\n",
      "{\"level\": \"INFO\", \"stack_info\": null, \"timestamp\": \"2018-11-02T19:34:00.577929Z\", \"logger\": \"root\", \"tags\": \"%(module)s, %(asctime)s, %(levelname)s, %(message)s\", \"message\": \"{\\\"message\\\": \\\"\\\\tConnection: close\\\", \\\"requestId\\\": \\\"abf6f6c4-9056-417b-a772-4d7fb7c575bf\\\", \\\"apiName\\\": \\\"/score\\\"}\", \"host\": \"wk-caas-84af95c008154ee9b6f4d842fde34488-af6227ed774b29149a9e02\", \"path\": \"/var/azureml-app/aml_logger.py\"}\n",
      "{\"level\": \"INFO\", \"stack_info\": null, \"timestamp\": \"2018-11-02T19:34:00.578035Z\", \"logger\": \"root\", \"tags\": \"%(module)s, %(asctime)s, %(levelname)s, %(message)s\", \"message\": \"{\\\"message\\\": \\\"\\\\tHost: localhost:5001\\\", \\\"requestId\\\": \\\"abf6f6c4-9056-417b-a772-4d7fb7c575bf\\\", \\\"apiName\\\": \\\"/score\\\"}\", \"host\": \"wk-caas-84af95c008154ee9b6f4d842fde34488-af6227ed774b29149a9e02\", \"path\": \"/var/azureml-app/aml_logger.py\"}\n",
      "{\"level\": \"INFO\", \"stack_info\": null, \"timestamp\": \"2018-11-02T19:34:00.578148Z\", \"logger\": \"root\", \"tags\": \"%(module)s, %(asctime)s, %(levelname)s, %(message)s\", \"message\": \"{\\\"message\\\": \\\"\\\\tX-Ms-Request-Id: abf6f6c4-9056-417b-a772-4d7fb7c575bf\\\", \\\"requestId\\\": \\\"abf6f6c4-9056-417b-a772-4d7fb7c575bf\\\", \\\"apiName\\\": \\\"/score\\\"}\", \"host\": \"wk-caas-84af95c008154ee9b6f4d842fde34488-af6227ed774b29149a9e02\", \"path\": \"/var/azureml-app/aml_logger.py\"}\n",
      "{\"level\": \"INFO\", \"stack_info\": null, \"timestamp\": \"2018-11-02T19:34:00.578265Z\", \"logger\": \"root\", \"tags\": \"%(module)s, %(asctime)s, %(levelname)s, %(message)s\", \"message\": \"{\\\"message\\\": \\\"\\\\tX-Real-Ip: 127.0.0.1\\\", \\\"requestId\\\": \\\"abf6f6c4-9056-417b-a772-4d7fb7c575bf\\\", \\\"apiName\\\": \\\"/score\\\"}\", \"host\": \"wk-caas-84af95c008154ee9b6f4d842fde34488-af6227ed774b29149a9e02\", \"path\": \"/var/azureml-app/aml_logger.py\"}\n",
      "{\"level\": \"INFO\", \"stack_info\": null, \"timestamp\": \"2018-11-02T19:34:00.578371Z\", \"logger\": \"root\", \"tags\": \"%(module)s, %(asctime)s, %(levelname)s, %(message)s\", \"message\": \"{\\\"message\\\": \\\"\\\\tAccept: */*\\\", \\\"requestId\\\": \\\"abf6f6c4-9056-417b-a772-4d7fb7c575bf\\\", \\\"apiName\\\": \\\"/score\\\"}\", \"host\": \"wk-caas-84af95c008154ee9b6f4d842fde34488-af6227ed774b29149a9e02\", \"path\": \"/var/azureml-app/aml_logger.py\"}\n",
      "{\"level\": \"INFO\", \"stack_info\": null, \"timestamp\": \"2018-11-02T19:34:00.578474Z\", \"logger\": \"root\", \"tags\": \"%(module)s, %(asctime)s, %(levelname)s, %(message)s\", \"message\": \"{\\\"message\\\": \\\"\\\\tContent-Type: application/json\\\", \\\"requestId\\\": \\\"abf6f6c4-9056-417b-a772-4d7fb7c575bf\\\", \\\"apiName\\\": \\\"/score\\\"}\", \"host\": \"wk-caas-84af95c008154ee9b6f4d842fde34488-af6227ed774b29149a9e02\", \"path\": \"/var/azureml-app/aml_logger.py\"}\n",
      "{\"level\": \"INFO\", \"stack_info\": null, \"timestamp\": \"2018-11-02T19:34:00.578589Z\", \"logger\": \"root\", \"tags\": \"%(module)s, %(asctime)s, %(levelname)s, %(message)s\", \"message\": \"{\\\"message\\\": \\\"\\\\tUser-Agent: insomnia/5.16.6\\\", \\\"requestId\\\": \\\"abf6f6c4-9056-417b-a772-4d7fb7c575bf\\\", \\\"apiName\\\": \\\"/score\\\"}\", \"host\": \"wk-caas-84af95c008154ee9b6f4d842fde34488-af6227ed774b29149a9e02\", \"path\": \"/var/azureml-app/aml_logger.py\"}\n",
      "{\"level\": \"INFO\", \"stack_info\": null, \"timestamp\": \"2018-11-02T19:34:00.578800Z\", \"logger\": \"root\", \"tags\": \"%(module)s, %(asctime)s, %(levelname)s, %(message)s\", \"message\": \"{\\\"message\\\": \\\"Scoring Timer is set to 3600.0 seconds\\\", \\\"requestId\\\": \\\"abf6f6c4-9056-417b-a772-4d7fb7c575bf\\\", \\\"apiName\\\": \\\"/score\\\"}\", \"host\": \"wk-caas-84af95c008154ee9b6f4d842fde34488-af6227ed774b29149a9e02\", \"path\": \"/var/azureml-app/aml_logger.py\"}\n",
      "{\"level\": \"INFO\", \"stack_info\": null, \"timestamp\": \"2018-11-02T19:34:02.413157Z\", \"logger\": \"root\", \"tags\": \"%(module)s, %(asctime)s, %(levelname)s, %(message)s\", \"message\": \"{\\\"message\\\": 200, \\\"requestId\\\": \\\"abf6f6c4-9056-417b-a772-4d7fb7c575bf\\\", \\\"apiName\\\": \\\"/score\\\"}\", \"host\": \"wk-caas-84af95c008154ee9b6f4d842fde34488-af6227ed774b29149a9e02\", \"path\": \"/var/azureml-app/aml_logger.py\"}\n",
      "{\"level\": \"INFO\", \"stack_info\": null, \"timestamp\": \"2018-11-02T19:34:02.413857Z\", \"logger\": \"gunicorn.access\", \"tags\": \"%(module)s, %(asctime)s, %(levelname)s, %(message)s\", \"message\": \"127.0.0.1 - - [02/Nov/2018:19:34:02 +0000] \\\"POST /score HTTP/1.0\\\" 200 463 \\\"-\\\" \\\"insomnia/5.16.6\\\"\", \"host\": \"wk-caas-84af95c008154ee9b6f4d842fde34488-af6227ed774b29149a9e02\", \"path\": \"/home/mmlspark/lib/conda/lib/python3.5/site-packages/gunicorn/glogging.py\"}\n",
      "{\"level\": \"INFO\", \"stack_info\": null, \"timestamp\": \"2018-11-02T19:34:11.116557Z\", \"logger\": \"gunicorn.access\", \"tags\": \"%(module)s, %(asctime)s, %(levelname)s, %(message)s\", \"message\": \"127.0.0.1 - - [02/Nov/2018:19:34:11 +0000] \\\"GET / HTTP/1.0\\\" 200 7 \\\"-\\\" \\\"Go-http-client/1.1\\\"\", \"host\": \"wk-caas-84af95c008154ee9b6f4d842fde34488-af6227ed774b29149a9e02\", \"path\": \"/home/mmlspark/lib/conda/lib/python3.5/site-packages/gunicorn/glogging.py\"}\n",
      "{\"level\": \"INFO\", \"stack_info\": null, \"timestamp\": \"2018-11-02T19:37:03.876666Z\", \"logger\": \"root\", \"tags\": \"%(module)s, %(asctime)s, %(levelname)s, %(message)s\", \"message\": \"{\\\"message\\\": \\\"Validation Request Content-Type\\\", \\\"requestId\\\": \\\"ba1a25fa-b9b0-4f61-9de2-3de86ce0591e\\\", \\\"apiName\\\": \\\"/score\\\"}\", \"host\": \"wk-caas-84af95c008154ee9b6f4d842fde34488-af6227ed774b29149a9e02\", \"path\": \"/var/azureml-app/aml_logger.py\"}\n",
      "{\"level\": \"INFO\", \"stack_info\": null, \"timestamp\": \"2018-11-02T19:37:03.877021Z\", \"logger\": \"root\", \"tags\": \"%(module)s, %(asctime)s, %(levelname)s, %(message)s\", \"message\": \"{\\\"message\\\": \\\"Received input: { \\\\\\\"image\\\\\\\":\\\\\\\"https://i.ytimg.com/vi/RI_f0buRi2c/maxresdefault.jpg\\\\\\\" }\\\", \\\"requestId\\\": \\\"ba1a25fa-b9b0-4f61-9de2-3de86ce0591e\\\", \\\"apiName\\\": \\\"/score\\\"}\", \"host\": \"wk-caas-84af95c008154ee9b6f4d842fde34488-af6227ed774b29149a9e02\", \"path\": \"/var/azureml-app/aml_logger.py\"}\n",
      "{\"level\": \"INFO\", \"stack_info\": null, \"timestamp\": \"2018-11-02T19:37:03.877209Z\", \"logger\": \"root\", \"tags\": \"%(module)s, %(asctime)s, %(levelname)s, %(message)s\", \"message\": \"{\\\"message\\\": \\\"Headers passed in (total 11):\\\", \\\"requestId\\\": \\\"ba1a25fa-b9b0-4f61-9de2-3de86ce0591e\\\", \\\"apiName\\\": \\\"/score\\\"}\", \"host\": \"wk-caas-84af95c008154ee9b6f4d842fde34488-af6227ed774b29149a9e02\", \"path\": \"/var/azureml-app/aml_logger.py\"}\n",
      "{\"level\": \"INFO\", \"stack_info\": null, \"timestamp\": \"2018-11-02T19:37:03.877353Z\", \"logger\": \"root\", \"tags\": \"%(module)s, %(asctime)s, %(levelname)s, %(message)s\", \"message\": \"{\\\"message\\\": \\\"\\\\tX-Forwarded-For: 127.0.0.1\\\", \\\"requestId\\\": \\\"ba1a25fa-b9b0-4f61-9de2-3de86ce0591e\\\", \\\"apiName\\\": \\\"/score\\\"}\", \"host\": \"wk-caas-84af95c008154ee9b6f4d842fde34488-af6227ed774b29149a9e02\", \"path\": \"/var/azureml-app/aml_logger.py\"}\n",
      "{\"level\": \"INFO\", \"stack_info\": null, \"timestamp\": \"2018-11-02T19:37:03.877486Z\", \"logger\": \"root\", \"tags\": \"%(module)s, %(asctime)s, %(levelname)s, %(message)s\", \"message\": \"{\\\"message\\\": \\\"\\\\tAccept-Encoding: gzip\\\", \\\"requestId\\\": \\\"ba1a25fa-b9b0-4f61-9de2-3de86ce0591e\\\", \\\"apiName\\\": \\\"/score\\\"}\", \"host\": \"wk-caas-84af95c008154ee9b6f4d842fde34488-af6227ed774b29149a9e02\", \"path\": \"/var/azureml-app/aml_logger.py\"}\n",
      "{\"level\": \"INFO\", \"stack_info\": null, \"timestamp\": \"2018-11-02T19:37:03.877643Z\", \"logger\": \"root\", \"tags\": \"%(module)s, %(asctime)s, %(levelname)s, %(message)s\", \"message\": \"{\\\"message\\\": \\\"\\\\tContent-Length: 66\\\", \\\"requestId\\\": \\\"ba1a25fa-b9b0-4f61-9de2-3de86ce0591e\\\", \\\"apiName\\\": \\\"/score\\\"}\", \"host\": \"wk-caas-84af95c008154ee9b6f4d842fde34488-af6227ed774b29149a9e02\", \"path\": \"/var/azureml-app/aml_logger.py\"}\n",
      "{\"level\": \"INFO\", \"stack_info\": null, \"timestamp\": \"2018-11-02T19:37:03.877783Z\", \"logger\": \"root\", \"tags\": \"%(module)s, %(asctime)s, %(levelname)s, %(message)s\", \"message\": \"{\\\"message\\\": \\\"\\\\tX-Forwarded-Proto: http\\\", \\\"requestId\\\": \\\"ba1a25fa-b9b0-4f61-9de2-3de86ce0591e\\\", \\\"apiName\\\": \\\"/score\\\"}\", \"host\": \"wk-caas-84af95c008154ee9b6f4d842fde34488-af6227ed774b29149a9e02\", \"path\": \"/var/azureml-app/aml_logger.py\"}\n",
      "{\"level\": \"INFO\", \"stack_info\": null, \"timestamp\": \"2018-11-02T19:37:03.877914Z\", \"logger\": \"root\", \"tags\": \"%(module)s, %(asctime)s, %(levelname)s, %(message)s\", \"message\": \"{\\\"message\\\": \\\"\\\\tConnection: close\\\", \\\"requestId\\\": \\\"ba1a25fa-b9b0-4f61-9de2-3de86ce0591e\\\", \\\"apiName\\\": \\\"/score\\\"}\", \"host\": \"wk-caas-84af95c008154ee9b6f4d842fde34488-af6227ed774b29149a9e02\", \"path\": \"/var/azureml-app/aml_logger.py\"}\n",
      "{\"level\": \"INFO\", \"stack_info\": null, \"timestamp\": \"2018-11-02T19:37:03.878042Z\", \"logger\": \"root\", \"tags\": \"%(module)s, %(asctime)s, %(levelname)s, %(message)s\", \"message\": \"{\\\"message\\\": \\\"\\\\tHost: localhost:5001\\\", \\\"requestId\\\": \\\"ba1a25fa-b9b0-4f61-9de2-3de86ce0591e\\\", \\\"apiName\\\": \\\"/score\\\"}\", \"host\": \"wk-caas-84af95c008154ee9b6f4d842fde34488-af6227ed774b29149a9e02\", \"path\": \"/var/azureml-app/aml_logger.py\"}\n",
      "{\"level\": \"INFO\", \"stack_info\": null, \"timestamp\": \"2018-11-02T19:37:03.878169Z\", \"logger\": \"root\", \"tags\": \"%(module)s, %(asctime)s, %(levelname)s, %(message)s\", \"message\": \"{\\\"message\\\": \\\"\\\\tX-Ms-Request-Id: ba1a25fa-b9b0-4f61-9de2-3de86ce0591e\\\", \\\"requestId\\\": \\\"ba1a25fa-b9b0-4f61-9de2-3de86ce0591e\\\", \\\"apiName\\\": \\\"/score\\\"}\", \"host\": \"wk-caas-84af95c008154ee9b6f4d842fde34488-af6227ed774b29149a9e02\", \"path\": \"/var/azureml-app/aml_logger.py\"}\n",
      "{\"level\": \"INFO\", \"stack_info\": null, \"timestamp\": \"2018-11-02T19:37:03.878298Z\", \"logger\": \"root\", \"tags\": \"%(module)s, %(asctime)s, %(levelname)s, %(message)s\", \"message\": \"{\\\"message\\\": \\\"\\\\tX-Real-Ip: 127.0.0.1\\\", \\\"requestId\\\": \\\"ba1a25fa-b9b0-4f61-9de2-3de86ce0591e\\\", \\\"apiName\\\": \\\"/score\\\"}\", \"host\": \"wk-caas-84af95c008154ee9b6f4d842fde34488-af6227ed774b29149a9e02\", \"path\": \"/var/azureml-app/aml_logger.py\"}\n",
      "{\"level\": \"INFO\", \"stack_info\": null, \"timestamp\": \"2018-11-02T19:37:03.878424Z\", \"logger\": \"root\", \"tags\": \"%(module)s, %(asctime)s, %(levelname)s, %(message)s\", \"message\": \"{\\\"message\\\": \\\"\\\\tAccept: */*\\\", \\\"requestId\\\": \\\"ba1a25fa-b9b0-4f61-9de2-3de86ce0591e\\\", \\\"apiName\\\": \\\"/score\\\"}\", \"host\": \"wk-caas-84af95c008154ee9b6f4d842fde34488-af6227ed774b29149a9e02\", \"path\": \"/var/azureml-app/aml_logger.py\"}\n",
      "{\"level\": \"INFO\", \"stack_info\": null, \"timestamp\": \"2018-11-02T19:37:03.878534Z\", \"logger\": \"root\", \"tags\": \"%(module)s, %(asctime)s, %(levelname)s, %(message)s\", \"message\": \"{\\\"message\\\": \\\"\\\\tContent-Type: application/json\\\", \\\"requestId\\\": \\\"ba1a25fa-b9b0-4f61-9de2-3de86ce0591e\\\", \\\"apiName\\\": \\\"/score\\\"}\", \"host\": \"wk-caas-84af95c008154ee9b6f4d842fde34488-af6227ed774b29149a9e02\", \"path\": \"/var/azureml-app/aml_logger.py\"}\n",
      "{\"level\": \"INFO\", \"stack_info\": null, \"timestamp\": \"2018-11-02T19:37:03.878656Z\", \"logger\": \"root\", \"tags\": \"%(module)s, %(asctime)s, %(levelname)s, %(message)s\", \"message\": \"{\\\"message\\\": \\\"\\\\tUser-Agent: insomnia/5.16.6\\\", \\\"requestId\\\": \\\"ba1a25fa-b9b0-4f61-9de2-3de86ce0591e\\\", \\\"apiName\\\": \\\"/score\\\"}\", \"host\": \"wk-caas-84af95c008154ee9b6f4d842fde34488-af6227ed774b29149a9e02\", \"path\": \"/var/azureml-app/aml_logger.py\"}\n",
      "{\"level\": \"INFO\", \"stack_info\": null, \"timestamp\": \"2018-11-02T19:37:03.878885Z\", \"logger\": \"root\", \"tags\": \"%(module)s, %(asctime)s, %(levelname)s, %(message)s\", \"message\": \"{\\\"message\\\": \\\"Scoring Timer is set to 3600.0 seconds\\\", \\\"requestId\\\": \\\"ba1a25fa-b9b0-4f61-9de2-3de86ce0591e\\\", \\\"apiName\\\": \\\"/score\\\"}\", \"host\": \"wk-caas-84af95c008154ee9b6f4d842fde34488-af6227ed774b29149a9e02\", \"path\": \"/var/azureml-app/aml_logger.py\"}\n",
      "{\"level\": \"INFO\", \"stack_info\": null, \"timestamp\": \"2018-11-02T19:37:05.719631Z\", \"logger\": \"root\", \"tags\": \"%(module)s, %(asctime)s, %(levelname)s, %(message)s\", \"message\": \"{\\\"message\\\": 200, \\\"requestId\\\": \\\"ba1a25fa-b9b0-4f61-9de2-3de86ce0591e\\\", \\\"apiName\\\": \\\"/score\\\"}\", \"host\": \"wk-caas-84af95c008154ee9b6f4d842fde34488-af6227ed774b29149a9e02\", \"path\": \"/var/azureml-app/aml_logger.py\"}\n",
      "{\"level\": \"INFO\", \"stack_info\": null, \"timestamp\": \"2018-11-02T19:37:05.720342Z\", \"logger\": \"gunicorn.access\", \"tags\": \"%(module)s, %(asctime)s, %(levelname)s, %(message)s\", \"message\": \"127.0.0.1 - - [02/Nov/2018:19:37:05 +0000] \\\"POST /score HTTP/1.0\\\" 200 456 \\\"-\\\" \\\"insomnia/5.16.6\\\"\", \"host\": \"wk-caas-84af95c008154ee9b6f4d842fde34488-af6227ed774b29149a9e02\", \"path\": \"/home/mmlspark/lib/conda/lib/python3.5/site-packages/gunicorn/glogging.py\"}\n",
      "{\"level\": \"INFO\", \"stack_info\": null, \"timestamp\": \"2018-11-02T20:12:01.475255Z\", \"logger\": \"gunicorn.access\", \"tags\": \"%(module)s, %(asctime)s, %(levelname)s, %(message)s\", \"message\": \"127.0.0.1 - - [02/Nov/2018:20:12:01 +0000] \\\"GET / HTTP/1.0\\\" 200 7 \\\"-\\\" \\\"Go-http-client/1.1\\\"\", \"host\": \"wk-caas-84af95c008154ee9b6f4d842fde34488-af6227ed774b29149a9e02\", \"path\": \"/home/mmlspark/lib/conda/lib/python3.5/site-packages/gunicorn/glogging.py\"}\n",
      "{\"level\": \"INFO\", \"stack_info\": null, \"timestamp\": \"2018-11-02T20:12:10.207135Z\", \"logger\": \"root\", \"tags\": \"%(module)s, %(asctime)s, %(levelname)s, %(message)s\", \"message\": \"{\\\"message\\\": \\\"Received input: {}\\\", \\\"requestId\\\": \\\"eb3b1ebd-ad4d-45c8-be7c-318a21d29758\\\", \\\"apiName\\\": \\\"/prediction\\\"}\", \"host\": \"wk-caas-84af95c008154ee9b6f4d842fde34488-af6227ed774b29149a9e02\", \"path\": \"/var/azureml-app/aml_logger.py\"}\n",
      "{\"level\": \"INFO\", \"stack_info\": null, \"timestamp\": \"2018-11-02T20:12:10.207375Z\", \"logger\": \"root\", \"tags\": \"%(module)s, %(asctime)s, %(levelname)s, %(message)s\", \"message\": \"{\\\"message\\\": \\\"Headers passed in (total 8):\\\", \\\"requestId\\\": \\\"eb3b1ebd-ad4d-45c8-be7c-318a21d29758\\\", \\\"apiName\\\": \\\"/prediction\\\"}\", \"host\": \"wk-caas-84af95c008154ee9b6f4d842fde34488-af6227ed774b29149a9e02\", \"path\": \"/var/azureml-app/aml_logger.py\"}\n",
      "{\"level\": \"INFO\", \"stack_info\": null, \"timestamp\": \"2018-11-02T20:12:10.207503Z\", \"logger\": \"root\", \"tags\": \"%(module)s, %(asctime)s, %(levelname)s, %(message)s\", \"message\": \"{\\\"message\\\": \\\"\\\\tX-Forwarded-For: 127.0.0.1\\\", \\\"requestId\\\": \\\"eb3b1ebd-ad4d-45c8-be7c-318a21d29758\\\", \\\"apiName\\\": \\\"/prediction\\\"}\", \"host\": \"wk-caas-84af95c008154ee9b6f4d842fde34488-af6227ed774b29149a9e02\", \"path\": \"/var/azureml-app/aml_logger.py\"}\n",
      "{\"level\": \"INFO\", \"stack_info\": null, \"timestamp\": \"2018-11-02T20:12:10.207620Z\", \"logger\": \"root\", \"tags\": \"%(module)s, %(asctime)s, %(levelname)s, %(message)s\", \"message\": \"{\\\"message\\\": \\\"\\\\tAccept-Encoding: gzip\\\", \\\"requestId\\\": \\\"eb3b1ebd-ad4d-45c8-be7c-318a21d29758\\\", \\\"apiName\\\": \\\"/prediction\\\"}\", \"host\": \"wk-caas-84af95c008154ee9b6f4d842fde34488-af6227ed774b29149a9e02\", \"path\": \"/var/azureml-app/aml_logger.py\"}\n",
      "{\"level\": \"INFO\", \"stack_info\": null, \"timestamp\": \"2018-11-02T20:12:10.207739Z\", \"logger\": \"root\", \"tags\": \"%(module)s, %(asctime)s, %(levelname)s, %(message)s\", \"message\": \"{\\\"message\\\": \\\"\\\\tX-Forwarded-Proto: http\\\", \\\"requestId\\\": \\\"eb3b1ebd-ad4d-45c8-be7c-318a21d29758\\\", \\\"apiName\\\": \\\"/prediction\\\"}\", \"host\": \"wk-caas-84af95c008154ee9b6f4d842fde34488-af6227ed774b29149a9e02\", \"path\": \"/var/azureml-app/aml_logger.py\"}\n",
      "{\"level\": \"INFO\", \"stack_info\": null, \"timestamp\": \"2018-11-02T20:12:10.207848Z\", \"logger\": \"root\", \"tags\": \"%(module)s, %(asctime)s, %(levelname)s, %(message)s\", \"message\": \"{\\\"message\\\": \\\"\\\\tConnection: close\\\", \\\"requestId\\\": \\\"eb3b1ebd-ad4d-45c8-be7c-318a21d29758\\\", \\\"apiName\\\": \\\"/prediction\\\"}\", \"host\": \"wk-caas-84af95c008154ee9b6f4d842fde34488-af6227ed774b29149a9e02\", \"path\": \"/var/azureml-app/aml_logger.py\"}\n",
      "{\"level\": \"INFO\", \"stack_info\": null, \"timestamp\": \"2018-11-02T20:12:10.207951Z\", \"logger\": \"root\", \"tags\": \"%(module)s, %(asctime)s, %(levelname)s, %(message)s\", \"message\": \"{\\\"message\\\": \\\"\\\\tHost: localhost:5001\\\", \\\"requestId\\\": \\\"eb3b1ebd-ad4d-45c8-be7c-318a21d29758\\\", \\\"apiName\\\": \\\"/prediction\\\"}\", \"host\": \"wk-caas-84af95c008154ee9b6f4d842fde34488-af6227ed774b29149a9e02\", \"path\": \"/var/azureml-app/aml_logger.py\"}\n",
      "{\"level\": \"INFO\", \"stack_info\": null, \"timestamp\": \"2018-11-02T20:12:10.208058Z\", \"logger\": \"root\", \"tags\": \"%(module)s, %(asctime)s, %(levelname)s, %(message)s\", \"message\": \"{\\\"message\\\": \\\"\\\\tX-Ms-Request-Id: eb3b1ebd-ad4d-45c8-be7c-318a21d29758\\\", \\\"requestId\\\": \\\"eb3b1ebd-ad4d-45c8-be7c-318a21d29758\\\", \\\"apiName\\\": \\\"/prediction\\\"}\", \"host\": \"wk-caas-84af95c008154ee9b6f4d842fde34488-af6227ed774b29149a9e02\", \"path\": \"/var/azureml-app/aml_logger.py\"}\n",
      "{\"level\": \"INFO\", \"stack_info\": null, \"timestamp\": \"2018-11-02T20:12:10.208185Z\", \"logger\": \"root\", \"tags\": \"%(module)s, %(asctime)s, %(levelname)s, %(message)s\", \"message\": \"{\\\"message\\\": \\\"\\\\tX-Real-Ip: 127.0.0.1\\\", \\\"requestId\\\": \\\"eb3b1ebd-ad4d-45c8-be7c-318a21d29758\\\", \\\"apiName\\\": \\\"/prediction\\\"}\", \"host\": \"wk-caas-84af95c008154ee9b6f4d842fde34488-af6227ed774b29149a9e02\", \"path\": \"/var/azureml-app/aml_logger.py\"}\n",
      "{\"level\": \"INFO\", \"stack_info\": null, \"timestamp\": \"2018-11-02T20:12:10.208291Z\", \"logger\": \"root\", \"tags\": \"%(module)s, %(asctime)s, %(levelname)s, %(message)s\", \"message\": \"{\\\"message\\\": \\\"\\\\tUser-Agent: Go-http-client/1.1\\\", \\\"requestId\\\": \\\"eb3b1ebd-ad4d-45c8-be7c-318a21d29758\\\", \\\"apiName\\\": \\\"/prediction\\\"}\", \"host\": \"wk-caas-84af95c008154ee9b6f4d842fde34488-af6227ed774b29149a9e02\", \"path\": \"/var/azureml-app/aml_logger.py\"}\n",
      "{\"level\": \"INFO\", \"stack_info\": null, \"timestamp\": \"2018-11-02T20:12:10.208510Z\", \"logger\": \"root\", \"tags\": \"%(module)s, %(asctime)s, %(levelname)s, %(message)s\", \"message\": \"{\\\"message\\\": \\\"Scoring Timer is set to 3600.0 seconds\\\", \\\"requestId\\\": \\\"eb3b1ebd-ad4d-45c8-be7c-318a21d29758\\\", \\\"apiName\\\": \\\"/prediction\\\"}\", \"host\": \"wk-caas-84af95c008154ee9b6f4d842fde34488-af6227ed774b29149a9e02\", \"path\": \"/var/azureml-app/aml_logger.py\"}\n",
      "{\"level\": \"ERROR\", \"stack_info\": null, \"timestamp\": \"2018-11-02T20:12:10.208946Z\", \"logger\": \"root\", \"tags\": \"%(module)s, %(asctime)s, %(levelname)s, %(message)s\", \"message\": \"{\\\"message\\\": \\\"Encountered Exception: Traceback (most recent call last):\\\\n  File \\\\\\\"/var/azureml-app/app.py\\\\\\\", line 163, in run_scoring\\\\n    response = invoke_user_with_timer(service_input, request_headers)\\\\n  File \\\\\\\"/var/azureml-app/app.py\\\\\\\", line 219, in invoke_user_with_timer\\\\n    result = user_main.run(**params)\\\\n  File \\\\\\\"/var/azureml-app/main.py\\\\\\\", line 46, in run\\\\n    return_obj = driver_module.run(**arguments)\\\\n  File \\\\\\\"score.py\\\\\\\", line 56, in run\\\\n    img_path = json.loads(raw_data)['image']\\\\nKeyError: 'image'\\\\n\\\\nDuring handling of the above exception, another exception occurred:\\\\n\\\\nTraceback (most recent call last):\\\\n  File \\\\\\\"/home/mmlspark/lib/conda/lib/python3.5/site-packages/flask/app.py\\\\\\\", line 1639, in full_dispatch_request\\\\n    rv = self.dispatch_request()\\\\n  File \\\\\\\"/home/mmlspark/lib/conda/lib/python3.5/site-packages/flask/app.py\\\\\\\", line 1625, in dispatch_request\\\\n    return self.view_functions[rule.endpoint](**req.view_args)\\\\n  File \\\\\\\"/var/azureml-app/app.py\\\\\\\", line 64, in get_prediction_realtime\\\\n    return run_scoring(json.dumps(aml_input), request.headers)\\\\n  File \\\\\\\"/var/azureml-app/app.py\\\\\\\", line 175, in run_scoring\\\\n    raise RunFunctionException(str(exc))\\\\nrun_function_exception.RunFunctionException\\\\n\\\", \\\"requestId\\\": \\\"eb3b1ebd-ad4d-45c8-be7c-318a21d29758\\\", \\\"apiName\\\": \\\"/prediction\\\"}\", \"host\": \"wk-caas-84af95c008154ee9b6f4d842fde34488-af6227ed774b29149a9e02\", \"path\": \"/var/azureml-app/aml_logger.py\"}\n",
      "{\"level\": \"INFO\", \"stack_info\": null, \"timestamp\": \"2018-11-02T20:12:10.209149Z\", \"logger\": \"root\", \"tags\": \"%(module)s, %(asctime)s, %(levelname)s, %(message)s\", \"message\": \"{\\\"message\\\": 500, \\\"requestId\\\": \\\"eb3b1ebd-ad4d-45c8-be7c-318a21d29758\\\", \\\"apiName\\\": \\\"/prediction\\\"}\", \"host\": \"wk-caas-84af95c008154ee9b6f4d842fde34488-af6227ed774b29149a9e02\", \"path\": \"/var/azureml-app/aml_logger.py\"}\n",
      "{\"level\": \"INFO\", \"stack_info\": null, \"timestamp\": \"2018-11-02T20:12:10.209597Z\", \"logger\": \"gunicorn.access\", \"tags\": \"%(module)s, %(asctime)s, %(levelname)s, %(message)s\", \"message\": \"127.0.0.1 - - [02/Nov/2018:20:12:10 +0000] \\\"GET /score HTTP/1.0\\\" 500 7 \\\"-\\\" \\\"Go-http-client/1.1\\\"\", \"host\": \"wk-caas-84af95c008154ee9b6f4d842fde34488-af6227ed774b29149a9e02\", \"path\": \"/home/mmlspark/lib/conda/lib/python3.5/site-packages/gunicorn/glogging.py\"}\n",
      "{\"level\": \"INFO\", \"stack_info\": null, \"timestamp\": \"2018-11-02T20:12:12.776371Z\", \"logger\": \"root\", \"tags\": \"%(module)s, %(asctime)s, %(levelname)s, %(message)s\", \"message\": \"{\\\"message\\\": \\\"Validation Request Content-Type\\\", \\\"requestId\\\": \\\"e058f082-cfdd-44ee-9271-c9d9eeef6b20\\\", \\\"apiName\\\": \\\"/score\\\"}\", \"host\": \"wk-caas-84af95c008154ee9b6f4d842fde34488-af6227ed774b29149a9e02\", \"path\": \"/var/azureml-app/aml_logger.py\"}\n",
      "{\"level\": \"INFO\", \"stack_info\": null, \"timestamp\": \"2018-11-02T20:12:12.776722Z\", \"logger\": \"root\", \"tags\": \"%(module)s, %(asctime)s, %(levelname)s, %(message)s\", \"message\": \"{\\\"message\\\": \\\"Received input: { \\\\\\\"image\\\\\\\":\\\\\\\"https://media.bizarrepedia.com/images/timothy-treadwell.jpg\\\\\\\" }\\\", \\\"requestId\\\": \\\"e058f082-cfdd-44ee-9271-c9d9eeef6b20\\\", \\\"apiName\\\": \\\"/score\\\"}\", \"host\": \"wk-caas-84af95c008154ee9b6f4d842fde34488-af6227ed774b29149a9e02\", \"path\": \"/var/azureml-app/aml_logger.py\"}\n",
      "{\"level\": \"INFO\", \"stack_info\": null, \"timestamp\": \"2018-11-02T20:12:12.776895Z\", \"logger\": \"root\", \"tags\": \"%(module)s, %(asctime)s, %(levelname)s, %(message)s\", \"message\": \"{\\\"message\\\": \\\"Headers passed in (total 11):\\\", \\\"requestId\\\": \\\"e058f082-cfdd-44ee-9271-c9d9eeef6b20\\\", \\\"apiName\\\": \\\"/score\\\"}\", \"host\": \"wk-caas-84af95c008154ee9b6f4d842fde34488-af6227ed774b29149a9e02\", \"path\": \"/var/azureml-app/aml_logger.py\"}\n",
      "{\"level\": \"INFO\", \"stack_info\": null, \"timestamp\": \"2018-11-02T20:12:12.777039Z\", \"logger\": \"root\", \"tags\": \"%(module)s, %(asctime)s, %(levelname)s, %(message)s\", \"message\": \"{\\\"message\\\": \\\"\\\\tX-Forwarded-For: 127.0.0.1\\\", \\\"requestId\\\": \\\"e058f082-cfdd-44ee-9271-c9d9eeef6b20\\\", \\\"apiName\\\": \\\"/score\\\"}\", \"host\": \"wk-caas-84af95c008154ee9b6f4d842fde34488-af6227ed774b29149a9e02\", \"path\": \"/var/azureml-app/aml_logger.py\"}\n",
      "{\"level\": \"INFO\", \"stack_info\": null, \"timestamp\": \"2018-11-02T20:12:12.777155Z\", \"logger\": \"root\", \"tags\": \"%(module)s, %(asctime)s, %(levelname)s, %(message)s\", \"message\": \"{\\\"message\\\": \\\"\\\\tAccept-Encoding: gzip\\\", \\\"requestId\\\": \\\"e058f082-cfdd-44ee-9271-c9d9eeef6b20\\\", \\\"apiName\\\": \\\"/score\\\"}\", \"host\": \"wk-caas-84af95c008154ee9b6f4d842fde34488-af6227ed774b29149a9e02\", \"path\": \"/var/azureml-app/aml_logger.py\"}\n",
      "{\"level\": \"INFO\", \"stack_info\": null, \"timestamp\": \"2018-11-02T20:12:12.777264Z\", \"logger\": \"root\", \"tags\": \"%(module)s, %(asctime)s, %(levelname)s, %(message)s\", \"message\": \"{\\\"message\\\": \\\"\\\\tContent-Length: 73\\\", \\\"requestId\\\": \\\"e058f082-cfdd-44ee-9271-c9d9eeef6b20\\\", \\\"apiName\\\": \\\"/score\\\"}\", \"host\": \"wk-caas-84af95c008154ee9b6f4d842fde34488-af6227ed774b29149a9e02\", \"path\": \"/var/azureml-app/aml_logger.py\"}\n",
      "{\"level\": \"INFO\", \"stack_info\": null, \"timestamp\": \"2018-11-02T20:12:12.777371Z\", \"logger\": \"root\", \"tags\": \"%(module)s, %(asctime)s, %(levelname)s, %(message)s\", \"message\": \"{\\\"message\\\": \\\"\\\\tX-Forwarded-Proto: http\\\", \\\"requestId\\\": \\\"e058f082-cfdd-44ee-9271-c9d9eeef6b20\\\", \\\"apiName\\\": \\\"/score\\\"}\", \"host\": \"wk-caas-84af95c008154ee9b6f4d842fde34488-af6227ed774b29149a9e02\", \"path\": \"/var/azureml-app/aml_logger.py\"}\n",
      "{\"level\": \"INFO\", \"stack_info\": null, \"timestamp\": \"2018-11-02T20:12:12.777486Z\", \"logger\": \"root\", \"tags\": \"%(module)s, %(asctime)s, %(levelname)s, %(message)s\", \"message\": \"{\\\"message\\\": \\\"\\\\tConnection: close\\\", \\\"requestId\\\": \\\"e058f082-cfdd-44ee-9271-c9d9eeef6b20\\\", \\\"apiName\\\": \\\"/score\\\"}\", \"host\": \"wk-caas-84af95c008154ee9b6f4d842fde34488-af6227ed774b29149a9e02\", \"path\": \"/var/azureml-app/aml_logger.py\"}\n",
      "{\"level\": \"INFO\", \"stack_info\": null, \"timestamp\": \"2018-11-02T20:12:12.873734Z\", \"logger\": \"root\", \"tags\": \"%(module)s, %(asctime)s, %(levelname)s, %(message)s\", \"message\": \"{\\\"message\\\": \\\"\\\\tHost: localhost:5001\\\", \\\"requestId\\\": \\\"e058f082-cfdd-44ee-9271-c9d9eeef6b20\\\", \\\"apiName\\\": \\\"/score\\\"}\", \"host\": \"wk-caas-84af95c008154ee9b6f4d842fde34488-af6227ed774b29149a9e02\", \"path\": \"/var/azureml-app/aml_logger.py\"}\n",
      "{\"level\": \"INFO\", \"stack_info\": null, \"timestamp\": \"2018-11-02T20:12:12.873995Z\", \"logger\": \"root\", \"tags\": \"%(module)s, %(asctime)s, %(levelname)s, %(message)s\", \"message\": \"{\\\"message\\\": \\\"\\\\tX-Ms-Request-Id: e058f082-cfdd-44ee-9271-c9d9eeef6b20\\\", \\\"requestId\\\": \\\"e058f082-cfdd-44ee-9271-c9d9eeef6b20\\\", \\\"apiName\\\": \\\"/score\\\"}\", \"host\": \"wk-caas-84af95c008154ee9b6f4d842fde34488-af6227ed774b29149a9e02\", \"path\": \"/var/azureml-app/aml_logger.py\"}\n",
      "{\"level\": \"INFO\", \"stack_info\": null, \"timestamp\": \"2018-11-02T20:12:12.874154Z\", \"logger\": \"root\", \"tags\": \"%(module)s, %(asctime)s, %(levelname)s, %(message)s\", \"message\": \"{\\\"message\\\": \\\"\\\\tX-Real-Ip: 127.0.0.1\\\", \\\"requestId\\\": \\\"e058f082-cfdd-44ee-9271-c9d9eeef6b20\\\", \\\"apiName\\\": \\\"/score\\\"}\", \"host\": \"wk-caas-84af95c008154ee9b6f4d842fde34488-af6227ed774b29149a9e02\", \"path\": \"/var/azureml-app/aml_logger.py\"}\n",
      "{\"level\": \"INFO\", \"stack_info\": null, \"timestamp\": \"2018-11-02T20:12:12.874284Z\", \"logger\": \"root\", \"tags\": \"%(module)s, %(asctime)s, %(levelname)s, %(message)s\", \"message\": \"{\\\"message\\\": \\\"\\\\tAccept: */*\\\", \\\"requestId\\\": \\\"e058f082-cfdd-44ee-9271-c9d9eeef6b20\\\", \\\"apiName\\\": \\\"/score\\\"}\", \"host\": \"wk-caas-84af95c008154ee9b6f4d842fde34488-af6227ed774b29149a9e02\", \"path\": \"/var/azureml-app/aml_logger.py\"}\n",
      "{\"level\": \"INFO\", \"stack_info\": null, \"timestamp\": \"2018-11-02T20:12:12.874425Z\", \"logger\": \"root\", \"tags\": \"%(module)s, %(asctime)s, %(levelname)s, %(message)s\", \"message\": \"{\\\"message\\\": \\\"\\\\tContent-Type: application/json\\\", \\\"requestId\\\": \\\"e058f082-cfdd-44ee-9271-c9d9eeef6b20\\\", \\\"apiName\\\": \\\"/score\\\"}\", \"host\": \"wk-caas-84af95c008154ee9b6f4d842fde34488-af6227ed774b29149a9e02\", \"path\": \"/var/azureml-app/aml_logger.py\"}\n",
      "{\"level\": \"INFO\", \"stack_info\": null, \"timestamp\": \"2018-11-02T20:12:12.874553Z\", \"logger\": \"root\", \"tags\": \"%(module)s, %(asctime)s, %(levelname)s, %(message)s\", \"message\": \"{\\\"message\\\": \\\"\\\\tUser-Agent: insomnia/5.16.6\\\", \\\"requestId\\\": \\\"e058f082-cfdd-44ee-9271-c9d9eeef6b20\\\", \\\"apiName\\\": \\\"/score\\\"}\", \"host\": \"wk-caas-84af95c008154ee9b6f4d842fde34488-af6227ed774b29149a9e02\", \"path\": \"/var/azureml-app/aml_logger.py\"}\n",
      "{\"level\": \"INFO\", \"stack_info\": null, \"timestamp\": \"2018-11-02T20:12:12.874837Z\", \"logger\": \"root\", \"tags\": \"%(module)s, %(asctime)s, %(levelname)s, %(message)s\", \"message\": \"{\\\"message\\\": \\\"Scoring Timer is set to 3600.0 seconds\\\", \\\"requestId\\\": \\\"e058f082-cfdd-44ee-9271-c9d9eeef6b20\\\", \\\"apiName\\\": \\\"/score\\\"}\", \"host\": \"wk-caas-84af95c008154ee9b6f4d842fde34488-af6227ed774b29149a9e02\", \"path\": \"/var/azureml-app/aml_logger.py\"}\n",
      "{\"level\": \"INFO\", \"stack_info\": null, \"timestamp\": \"2018-11-02T20:12:14.644129Z\", \"logger\": \"root\", \"tags\": \"%(module)s, %(asctime)s, %(levelname)s, %(message)s\", \"message\": \"{\\\"message\\\": 200, \\\"requestId\\\": \\\"e058f082-cfdd-44ee-9271-c9d9eeef6b20\\\", \\\"apiName\\\": \\\"/score\\\"}\", \"host\": \"wk-caas-84af95c008154ee9b6f4d842fde34488-af6227ed774b29149a9e02\", \"path\": \"/var/azureml-app/aml_logger.py\"}\n",
      "{\"level\": \"INFO\", \"stack_info\": null, \"timestamp\": \"2018-11-02T20:12:14.644768Z\", \"logger\": \"gunicorn.access\", \"tags\": \"%(module)s, %(asctime)s, %(levelname)s, %(message)s\", \"message\": \"127.0.0.1 - - [02/Nov/2018:20:12:14 +0000] \\\"POST /score HTTP/1.0\\\" 200 463 \\\"-\\\" \\\"insomnia/5.16.6\\\"\", \"host\": \"wk-caas-84af95c008154ee9b6f4d842fde34488-af6227ed774b29149a9e02\", \"path\": \"/home/mmlspark/lib/conda/lib/python3.5/site-packages/gunicorn/glogging.py\"}\n",
      "{\"level\": \"INFO\", \"stack_info\": null, \"timestamp\": \"2018-11-02T20:13:48.974905Z\", \"logger\": \"root\", \"tags\": \"%(module)s, %(asctime)s, %(levelname)s, %(message)s\", \"message\": \"{\\\"message\\\": \\\"Validation Request Content-Type\\\", \\\"requestId\\\": \\\"f303a722-51b1-4690-9a8e-8489efa72ca1\\\", \\\"apiName\\\": \\\"/score\\\"}\", \"host\": \"wk-caas-84af95c008154ee9b6f4d842fde34488-af6227ed774b29149a9e02\", \"path\": \"/var/azureml-app/aml_logger.py\"}\n",
      "{\"level\": \"INFO\", \"stack_info\": null, \"timestamp\": \"2018-11-02T20:13:48.975265Z\", \"logger\": \"root\", \"tags\": \"%(module)s, %(asctime)s, %(levelname)s, %(message)s\", \"message\": \"{\\\"message\\\": \\\"Received input: { \\\\\\\"image\\\\\\\":\\\\\\\"https://media.bizarrepedia.com/images/timothy-treadwell.jpg\\\\\\\" }\\\", \\\"requestId\\\": \\\"f303a722-51b1-4690-9a8e-8489efa72ca1\\\", \\\"apiName\\\": \\\"/score\\\"}\", \"host\": \"wk-caas-84af95c008154ee9b6f4d842fde34488-af6227ed774b29149a9e02\", \"path\": \"/var/azureml-app/aml_logger.py\"}\n",
      "{\"level\": \"INFO\", \"stack_info\": null, \"timestamp\": \"2018-11-02T20:13:48.975420Z\", \"logger\": \"root\", \"tags\": \"%(module)s, %(asctime)s, %(levelname)s, %(message)s\", \"message\": \"{\\\"message\\\": \\\"Headers passed in (total 11):\\\", \\\"requestId\\\": \\\"f303a722-51b1-4690-9a8e-8489efa72ca1\\\", \\\"apiName\\\": \\\"/score\\\"}\", \"host\": \"wk-caas-84af95c008154ee9b6f4d842fde34488-af6227ed774b29149a9e02\", \"path\": \"/var/azureml-app/aml_logger.py\"}\n",
      "{\"level\": \"INFO\", \"stack_info\": null, \"timestamp\": \"2018-11-02T20:13:48.975534Z\", \"logger\": \"root\", \"tags\": \"%(module)s, %(asctime)s, %(levelname)s, %(message)s\", \"message\": \"{\\\"message\\\": \\\"\\\\tX-Forwarded-For: 127.0.0.1\\\", \\\"requestId\\\": \\\"f303a722-51b1-4690-9a8e-8489efa72ca1\\\", \\\"apiName\\\": \\\"/score\\\"}\", \"host\": \"wk-caas-84af95c008154ee9b6f4d842fde34488-af6227ed774b29149a9e02\", \"path\": \"/var/azureml-app/aml_logger.py\"}\n",
      "{\"level\": \"INFO\", \"stack_info\": null, \"timestamp\": \"2018-11-02T20:13:48.975633Z\", \"logger\": \"root\", \"tags\": \"%(module)s, %(asctime)s, %(levelname)s, %(message)s\", \"message\": \"{\\\"message\\\": \\\"\\\\tAccept-Encoding: gzip\\\", \\\"requestId\\\": \\\"f303a722-51b1-4690-9a8e-8489efa72ca1\\\", \\\"apiName\\\": \\\"/score\\\"}\", \"host\": \"wk-caas-84af95c008154ee9b6f4d842fde34488-af6227ed774b29149a9e02\", \"path\": \"/var/azureml-app/aml_logger.py\"}\n",
      "{\"level\": \"INFO\", \"stack_info\": null, \"timestamp\": \"2018-11-02T20:13:48.975734Z\", \"logger\": \"root\", \"tags\": \"%(module)s, %(asctime)s, %(levelname)s, %(message)s\", \"message\": \"{\\\"message\\\": \\\"\\\\tContent-Length: 73\\\", \\\"requestId\\\": \\\"f303a722-51b1-4690-9a8e-8489efa72ca1\\\", \\\"apiName\\\": \\\"/score\\\"}\", \"host\": \"wk-caas-84af95c008154ee9b6f4d842fde34488-af6227ed774b29149a9e02\", \"path\": \"/var/azureml-app/aml_logger.py\"}\n",
      "{\"level\": \"INFO\", \"stack_info\": null, \"timestamp\": \"2018-11-02T20:13:48.975831Z\", \"logger\": \"root\", \"tags\": \"%(module)s, %(asctime)s, %(levelname)s, %(message)s\", \"message\": \"{\\\"message\\\": \\\"\\\\tX-Forwarded-Proto: http\\\", \\\"requestId\\\": \\\"f303a722-51b1-4690-9a8e-8489efa72ca1\\\", \\\"apiName\\\": \\\"/score\\\"}\", \"host\": \"wk-caas-84af95c008154ee9b6f4d842fde34488-af6227ed774b29149a9e02\", \"path\": \"/var/azureml-app/aml_logger.py\"}\n",
      "{\"level\": \"INFO\", \"stack_info\": null, \"timestamp\": \"2018-11-02T20:13:48.975926Z\", \"logger\": \"root\", \"tags\": \"%(module)s, %(asctime)s, %(levelname)s, %(message)s\", \"message\": \"{\\\"message\\\": \\\"\\\\tConnection: close\\\", \\\"requestId\\\": \\\"f303a722-51b1-4690-9a8e-8489efa72ca1\\\", \\\"apiName\\\": \\\"/score\\\"}\", \"host\": \"wk-caas-84af95c008154ee9b6f4d842fde34488-af6227ed774b29149a9e02\", \"path\": \"/var/azureml-app/aml_logger.py\"}\n",
      "{\"level\": \"INFO\", \"stack_info\": null, \"timestamp\": \"2018-11-02T20:13:48.976036Z\", \"logger\": \"root\", \"tags\": \"%(module)s, %(asctime)s, %(levelname)s, %(message)s\", \"message\": \"{\\\"message\\\": \\\"\\\\tHost: localhost:5001\\\", \\\"requestId\\\": \\\"f303a722-51b1-4690-9a8e-8489efa72ca1\\\", \\\"apiName\\\": \\\"/score\\\"}\", \"host\": \"wk-caas-84af95c008154ee9b6f4d842fde34488-af6227ed774b29149a9e02\", \"path\": \"/var/azureml-app/aml_logger.py\"}\n",
      "{\"level\": \"INFO\", \"stack_info\": null, \"timestamp\": \"2018-11-02T20:13:48.976137Z\", \"logger\": \"root\", \"tags\": \"%(module)s, %(asctime)s, %(levelname)s, %(message)s\", \"message\": \"{\\\"message\\\": \\\"\\\\tX-Ms-Request-Id: f303a722-51b1-4690-9a8e-8489efa72ca1\\\", \\\"requestId\\\": \\\"f303a722-51b1-4690-9a8e-8489efa72ca1\\\", \\\"apiName\\\": \\\"/score\\\"}\", \"host\": \"wk-caas-84af95c008154ee9b6f4d842fde34488-af6227ed774b29149a9e02\", \"path\": \"/var/azureml-app/aml_logger.py\"}\n",
      "{\"level\": \"INFO\", \"stack_info\": null, \"timestamp\": \"2018-11-02T20:13:48.976239Z\", \"logger\": \"root\", \"tags\": \"%(module)s, %(asctime)s, %(levelname)s, %(message)s\", \"message\": \"{\\\"message\\\": \\\"\\\\tX-Real-Ip: 127.0.0.1\\\", \\\"requestId\\\": \\\"f303a722-51b1-4690-9a8e-8489efa72ca1\\\", \\\"apiName\\\": \\\"/score\\\"}\", \"host\": \"wk-caas-84af95c008154ee9b6f4d842fde34488-af6227ed774b29149a9e02\", \"path\": \"/var/azureml-app/aml_logger.py\"}\n",
      "{\"level\": \"INFO\", \"stack_info\": null, \"timestamp\": \"2018-11-02T20:13:48.976349Z\", \"logger\": \"root\", \"tags\": \"%(module)s, %(asctime)s, %(levelname)s, %(message)s\", \"message\": \"{\\\"message\\\": \\\"\\\\tAccept: */*\\\", \\\"requestId\\\": \\\"f303a722-51b1-4690-9a8e-8489efa72ca1\\\", \\\"apiName\\\": \\\"/score\\\"}\", \"host\": \"wk-caas-84af95c008154ee9b6f4d842fde34488-af6227ed774b29149a9e02\", \"path\": \"/var/azureml-app/aml_logger.py\"}\n",
      "{\"level\": \"INFO\", \"stack_info\": null, \"timestamp\": \"2018-11-02T20:13:48.976443Z\", \"logger\": \"root\", \"tags\": \"%(module)s, %(asctime)s, %(levelname)s, %(message)s\", \"message\": \"{\\\"message\\\": \\\"\\\\tContent-Type: application/json\\\", \\\"requestId\\\": \\\"f303a722-51b1-4690-9a8e-8489efa72ca1\\\", \\\"apiName\\\": \\\"/score\\\"}\", \"host\": \"wk-caas-84af95c008154ee9b6f4d842fde34488-af6227ed774b29149a9e02\", \"path\": \"/var/azureml-app/aml_logger.py\"}\n",
      "{\"level\": \"INFO\", \"stack_info\": null, \"timestamp\": \"2018-11-02T20:13:48.976536Z\", \"logger\": \"root\", \"tags\": \"%(module)s, %(asctime)s, %(levelname)s, %(message)s\", \"message\": \"{\\\"message\\\": \\\"\\\\tUser-Agent: insomnia/5.16.6\\\", \\\"requestId\\\": \\\"f303a722-51b1-4690-9a8e-8489efa72ca1\\\", \\\"apiName\\\": \\\"/score\\\"}\", \"host\": \"wk-caas-84af95c008154ee9b6f4d842fde34488-af6227ed774b29149a9e02\", \"path\": \"/var/azureml-app/aml_logger.py\"}\n",
      "{\"level\": \"INFO\", \"stack_info\": null, \"timestamp\": \"2018-11-02T20:13:48.976738Z\", \"logger\": \"root\", \"tags\": \"%(module)s, %(asctime)s, %(levelname)s, %(message)s\", \"message\": \"{\\\"message\\\": \\\"Scoring Timer is set to 3600.0 seconds\\\", \\\"requestId\\\": \\\"f303a722-51b1-4690-9a8e-8489efa72ca1\\\", \\\"apiName\\\": \\\"/score\\\"}\", \"host\": \"wk-caas-84af95c008154ee9b6f4d842fde34488-af6227ed774b29149a9e02\", \"path\": \"/var/azureml-app/aml_logger.py\"}\n",
      "{\"level\": \"INFO\", \"stack_info\": null, \"timestamp\": \"2018-11-02T20:13:50.833233Z\", \"logger\": \"root\", \"tags\": \"%(module)s, %(asctime)s, %(levelname)s, %(message)s\", \"message\": \"{\\\"message\\\": 200, \\\"requestId\\\": \\\"f303a722-51b1-4690-9a8e-8489efa72ca1\\\", \\\"apiName\\\": \\\"/score\\\"}\", \"host\": \"wk-caas-84af95c008154ee9b6f4d842fde34488-af6227ed774b29149a9e02\", \"path\": \"/var/azureml-app/aml_logger.py\"}\n",
      "{\"level\": \"INFO\", \"stack_info\": null, \"timestamp\": \"2018-11-02T20:13:50.834015Z\", \"logger\": \"gunicorn.access\", \"tags\": \"%(module)s, %(asctime)s, %(levelname)s, %(message)s\", \"message\": \"127.0.0.1 - - [02/Nov/2018:20:13:50 +0000] \\\"POST /score HTTP/1.0\\\" 200 463 \\\"-\\\" \\\"insomnia/5.16.6\\\"\", \"host\": \"wk-caas-84af95c008154ee9b6f4d842fde34488-af6227ed774b29149a9e02\", \"path\": \"/home/mmlspark/lib/conda/lib/python3.5/site-packages/gunicorn/glogging.py\"}\n",
      "\n"
     ]
    }
   ],
   "source": [
    "logs = svc.get_logs()\n",
    "print(logs)\n"
   ]
  },
  {
   "cell_type": "code",
   "execution_count": null,
   "metadata": {},
   "outputs": [],
   "source": []
  }
 ],
 "metadata": {
  "kernelspec": {
   "display_name": "Python 3",
   "language": "python",
   "name": "python3"
  },
  "language_info": {
   "codemirror_mode": {
    "name": "ipython",
    "version": 3
   },
   "file_extension": ".py",
   "mimetype": "text/x-python",
   "name": "python",
   "nbconvert_exporter": "python",
   "pygments_lexer": "ipython3",
   "version": "3.6.5"
  }
 },
 "nbformat": 4,
 "nbformat_minor": 2
}
