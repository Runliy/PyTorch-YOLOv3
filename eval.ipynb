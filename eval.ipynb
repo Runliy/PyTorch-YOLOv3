{
 "cells": [
  {
   "cell_type": "code",
   "execution_count": 11,
   "metadata": {},
   "outputs": [],
   "source": [
    "import os\n",
    "import json\n",
    "import requests\n",
    "import numpy as np\n",
    "from io import BytesIO\n",
    "from IPython.display import display\n",
    "from PIL import Image, ImageDraw, ImageFont"
   ]
  },
  {
   "cell_type": "code",
   "execution_count": 12,
   "metadata": {},
   "outputs": [],
   "source": [
    "def draw(image_url, items):\n",
    "    r = requests.get(image_url)\n",
    "    im = Image.open(BytesIO(r.content))\n",
    "    draw = ImageDraw.Draw(im)\n",
    "    font = ImageFont.truetype('arial.ttf', 16, encoding='unic')\n",
    "    for item in items:\n",
    "        draw.rectangle([item['x'], \n",
    "                        item['y'], \n",
    "                        item['x'] + item['width'], \n",
    "                        item['y'] + item['height']], outline='#FF0000')\n",
    "                        \n",
    "        s = '{0} ({1:.0%})'.format(item['label'], item['confidence'])\n",
    "        draw.text((item['x'], item['y']), \n",
    "                  s, \n",
    "                  font=font, fill=(255, 255, 255, 255))\n",
    "    del draw\n",
    "    return im"
   ]
  },
  {
   "cell_type": "code",
   "execution_count": 15,
   "metadata": {},
   "outputs": [],
   "source": [
    "service = 'http://40.90.244.211:80/score'\n",
    "image_url = 'https://i.pinimg.com/originals/60/3e/66/603e6638168e2656d50cc78a34a561ef.jpg'\n",
    "#image_url = 'https://my100yearoldhome.com/wp-content/uploads/2017/04/Rae-Dunn-Pottery-Collection.jpg'\n",
    "#image_url = 'https://thumbs.dreamstime.com/z/red-yellow-white-dishes-cups-shelves-store-dishes-display-99263287.jpg'\n",
    "#image_url = 'https://media-cdn.tripadvisor.com/media/photo-s/06/91/aa/af/kingsbury-of-tahoe.jpg'\n"
   ]
  },
  {
   "cell_type": "code",
   "execution_count": 16,
   "metadata": {},
   "outputs": [
    {
     "name": "stdout",
     "output_type": "stream",
     "text": [
      "<Response [502]>\n"
     ]
    }
   ],
   "source": [
    "r = requests.post(service, json={'image': image_url, 'confidence': .2})\n",
    "print(r)\n",
    "#response = json.loads(r.json())"
   ]
  },
  {
   "cell_type": "code",
   "execution_count": 6,
   "metadata": {},
   "outputs": [
    {
     "ename": "NameError",
     "evalue": "name 'response' is not defined",
     "output_type": "error",
     "traceback": [
      "\u001b[1;31m---------------------------------------------------------------------------\u001b[0m",
      "\u001b[1;31mNameError\u001b[0m                                 Traceback (most recent call last)",
      "\u001b[1;32m<ipython-input-6-6f5b6f6d8c5c>\u001b[0m in \u001b[0;36m<module>\u001b[1;34m\u001b[0m\n\u001b[1;32m----> 1\u001b[1;33m \u001b[0mprint\u001b[0m\u001b[1;33m(\u001b[0m\u001b[0mjson\u001b[0m\u001b[1;33m.\u001b[0m\u001b[0mdumps\u001b[0m\u001b[1;33m(\u001b[0m\u001b[0mresponse\u001b[0m\u001b[1;33m,\u001b[0m \u001b[0mindent\u001b[0m\u001b[1;33m=\u001b[0m\u001b[1;36m4\u001b[0m\u001b[1;33m,\u001b[0m \u001b[0msort_keys\u001b[0m\u001b[1;33m=\u001b[0m\u001b[1;32mTrue\u001b[0m\u001b[1;33m)\u001b[0m\u001b[1;33m)\u001b[0m\u001b[1;33m\u001b[0m\u001b[0m\n\u001b[0m",
      "\u001b[1;31mNameError\u001b[0m: name 'response' is not defined"
     ]
    }
   ],
   "source": [
    "print(json.dumps(response, indent=4, sort_keys=True))"
   ]
  },
  {
   "cell_type": "code",
   "execution_count": null,
   "metadata": {},
   "outputs": [],
   "source": [
    "img = draw(image_url, response['predictions'])\n",
    "display(img)"
   ]
  },
  {
   "cell_type": "code",
   "execution_count": null,
   "metadata": {},
   "outputs": [],
   "source": []
  },
  {
   "cell_type": "code",
   "execution_count": null,
   "metadata": {},
   "outputs": [],
   "source": []
  }
 ],
 "metadata": {
  "kernelspec": {
   "display_name": "Python 3",
   "language": "python",
   "name": "python3"
  },
  "language_info": {
   "codemirror_mode": {
    "name": "ipython",
    "version": 3
   },
   "file_extension": ".py",
   "mimetype": "text/x-python",
   "name": "python",
   "nbconvert_exporter": "python",
   "pygments_lexer": "ipython3",
   "version": "3.6.5"
  }
 },
 "nbformat": 4,
 "nbformat_minor": 2
}
