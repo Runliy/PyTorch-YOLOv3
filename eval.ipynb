{
 "cells": [
  {
   "cell_type": "code",
   "execution_count": null,
   "metadata": {},
   "outputs": [],
   "source": [
    "import os\n",
    "import json\n",
    "import requests\n",
    "import numpy as np\n",
    "from io import BytesIO\n",
    "from IPython.display import display\n",
    "from PIL import Image, ImageDraw, ImageFont"
   ]
  },
  {
   "cell_type": "code",
   "execution_count": null,
   "metadata": {},
   "outputs": [],
   "source": [
    "def draw(image_url, items):\n",
    "    r = requests.get(image_url)\n",
    "    im = Image.open(BytesIO(r.content))\n",
    "    draw = ImageDraw.Draw(im)\n",
    "    font = ImageFont.truetype('arial.ttf', 16, encoding='unic')\n",
    "    for item in items:\n",
    "        draw.rectangle([item['x'], \n",
    "                        item['y'], \n",
    "                        item['x'] + item['width'], \n",
    "                        item['y'] + item['height']], outline='#FF0000')\n",
    "                        \n",
    "        s = '{0} ({1:.0%})'.format(item['label'], item['confidence'])\n",
    "        draw.text((item['x'], item['y']), \n",
    "                  s, \n",
    "                  font=font, fill=(255, 255, 255, 255))\n",
    "    del draw\n",
    "    return im"
   ]
  },
  {
   "cell_type": "code",
   "execution_count": null,
   "metadata": {},
   "outputs": [],
   "source": [
    "service = 'http://13.68.203.69:80/score'\n",
    "image_url = 'https://i.pinimg.com/originals/60/3e/66/603e6638168e2656d50cc78a34a561ef.jpg'\n",
    "#image_url = 'https://my100yearoldhome.com/wp-content/uploads/2017/04/Rae-Dunn-Pottery-Collection.jpg'\n",
    "#image_url = 'https://thumbs.dreamstime.com/z/red-yellow-white-dishes-cups-shelves-store-dishes-display-99263287.jpg'\n",
    "#image_url = 'https://media-cdn.tripadvisor.com/media/photo-s/06/91/aa/af/kingsbury-of-tahoe.jpg'\n"
   ]
  },
  {
   "cell_type": "code",
   "execution_count": null,
   "metadata": {},
   "outputs": [],
   "source": [
    "r = requests.post(service, json={'image': image_url, 'confidence': .2})   \n",
    "response = json.loads(r.json())"
   ]
  },
  {
   "cell_type": "code",
   "execution_count": null,
   "metadata": {},
   "outputs": [],
   "source": [
    "print(response)"
   ]
  },
  {
   "cell_type": "code",
   "execution_count": null,
   "metadata": {},
   "outputs": [],
   "source": [
    "img = draw(image_url, response['predictions'])\n",
    "display(img)"
   ]
  },
  {
   "cell_type": "code",
   "execution_count": null,
   "metadata": {},
   "outputs": [],
   "source": []
  }
 ],
 "metadata": {
  "kernelspec": {
   "display_name": "Python 3",
   "language": "python",
   "name": "python3"
  },
  "language_info": {
   "codemirror_mode": {
    "name": "ipython",
    "version": 3
   },
   "file_extension": ".py",
   "mimetype": "text/x-python",
   "name": "python",
   "nbconvert_exporter": "python",
   "pygments_lexer": "ipython3",
   "version": "3.6.5"
  }
 },
 "nbformat": 4,
 "nbformat_minor": 2
}
