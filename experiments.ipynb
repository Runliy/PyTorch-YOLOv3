{
 "cells": [
  {
   "cell_type": "code",
   "execution_count": 3,
   "metadata": {},
   "outputs": [
    {
     "name": "stdout",
     "output_type": "stream",
     "text": [
      "Azure ML SDK Version:  0.1.68\n"
     ]
    }
   ],
   "source": [
    "import azureml\n",
    "import json\n",
    "from azureml.core.model import Model\n",
    "from azureml.core import Workspace, Run\n",
    "\n",
    "# check core SDK version number\n",
    "print(\"Azure ML SDK Version: \", azureml.core.VERSION)"
   ]
  },
  {
   "cell_type": "code",
   "execution_count": 4,
   "metadata": {},
   "outputs": [
    {
     "name": "stdout",
     "output_type": "stream",
     "text": [
      "Wrote the config file config.json to: c:\\projects\\PyTorch-YOLOv3\\aml_config\\config.json\n",
      "Workspace configuration succeeded. You are all set!\n"
     ]
    }
   ],
   "source": [
    "# use this code to set up config file\n",
    "#subscription_id ='<SUB_ID>'\n",
    "#resource_group ='<RESOURCE_GROUP>'\n",
    "#workspace_name = '<WORKSPACE>'\n",
    "\n",
    "#try:\n",
    "#   ws = Workspace(subscription_id = subscription_id, resource_group = resource_group, workspace_name = workspace_name)\n",
    "#   ws.write_config()\n",
    "#   print('Workspace configuration succeeded. You are all set!')\n",
    "#except:\n",
    "#   print('Workspace not found. TOO MANY ISSUES!!!')\n",
    "ws = Workspace.from_config()"
   ]
  },
  {
   "cell_type": "markdown",
   "metadata": {},
   "source": [
    "# Managing Experiments"
   ]
  },
  {
   "cell_type": "code",
   "execution_count": null,
   "metadata": {},
   "outputs": [],
   "source": []
  }
 ],
 "metadata": {
  "kernelspec": {
   "display_name": "Python 3",
   "language": "python",
   "name": "python3"
  },
  "language_info": {
   "codemirror_mode": {
    "name": "ipython",
    "version": 3
   },
   "file_extension": ".py",
   "mimetype": "text/x-python",
   "name": "python",
   "nbconvert_exporter": "python",
   "pygments_lexer": "ipython3",
   "version": "3.6.5"
  }
 },
 "nbformat": 4,
 "nbformat_minor": 2
}
