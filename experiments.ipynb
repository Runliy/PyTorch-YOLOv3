{
 "cells": [
  {
   "cell_type": "code",
   "execution_count": 1,
   "metadata": {},
   "outputs": [
    {
     "name": "stdout",
     "output_type": "stream",
     "text": [
      "Azure ML SDK Version:  0.1.68\n"
     ]
    }
   ],
   "source": [
    "import azureml\n",
    "import json\n",
    "from azureml.core.model import Model\n",
    "from azureml.core import Workspace, Run, Datastore, Experiment\n",
    "from azureml.core.runconfig import RunConfiguration\n",
    "from azureml.core.conda_dependencies import CondaDependencies\n",
    "from azureml.core.compute import BatchAiCompute\n",
    "from azureml.core.compute import ComputeTarget\n",
    "from azureml.train.dnn import PyTorch\n",
    "from azureml.train.widgets import RunDetails\n",
    "\n",
    "# check core SDK version number\n",
    "print(\"Azure ML SDK Version: \", azureml.core.VERSION)"
   ]
  },
  {
   "cell_type": "code",
   "execution_count": 2,
   "metadata": {},
   "outputs": [
    {
     "name": "stdout",
     "output_type": "stream",
     "text": [
      "Found the config file in: C:\\projects\\PyTorch-YOLOv3\\aml_config\\config.json\n"
     ]
    }
   ],
   "source": [
    "# use this code to set up config file\n",
    "#subscription_id ='<SUB_ID>'\n",
    "#resource_group ='<RESOURCE_GROUP>'\n",
    "#workspace_name = '<WORKSPACE>'\n",
    "\n",
    "#try:\n",
    "#   ws = Workspace(subscription_id = subscription_id, resource_group = resource_group, workspace_name = workspace_name)\n",
    "#   ws.write_config()\n",
    "#   print('Workspace configuration succeeded. You are all set!')\n",
    "#except:\n",
    "#   print('Workspace not found. TOO MANY ISSUES!!!')\n",
    "ws = Workspace.from_config()"
   ]
  },
  {
   "cell_type": "markdown",
   "metadata": {},
   "source": [
    "# Managing Datastores\n",
    "Register / reference datastores"
   ]
  },
  {
   "cell_type": "code",
   "execution_count": 3,
   "metadata": {},
   "outputs": [
    {
     "name": "stdout",
     "output_type": "stream",
     "text": [
      "workspaceblobstore AzureBlob\n",
      "workspacefilestore AzureFile\n",
      "images_datastore AzureBlob\n",
      "coco AzureBlob\n"
     ]
    }
   ],
   "source": [
    "# Register datastore\n",
    "#ds = Datastore.register_azure_blob_container(workspace=ws,\n",
    "#                                             datastore_name='coco',\n",
    "#                                             container_name='coco',\n",
    "#                                             account_name='robotdatasets',\n",
    "#                                             account_key='<KEY>',\n",
    "#                                             create_if_not_exists=False)\n",
    "datastores = ws.datastores()\n",
    "for name, ds in datastores.items():\n",
    "    print(name, ds.datastore_type)"
   ]
  },
  {
   "cell_type": "code",
   "execution_count": 4,
   "metadata": {},
   "outputs": [],
   "source": [
    "ds = Datastore.get(ws, datastore_name='coco')"
   ]
  },
  {
   "cell_type": "markdown",
   "metadata": {},
   "source": [
    "# Checking Compute\n",
    "Manage / reference compute"
   ]
  },
  {
   "cell_type": "code",
   "execution_count": 5,
   "metadata": {},
   "outputs": [
    {
     "data": {
      "text/plain": [
       "{'RobotArmy': <azureml.core.compute.batchai.BatchAiCompute at 0x1baa1bd02b0>,\n",
       " 'Halgpu': <azureml.core.compute.batchai.BatchAiCompute at 0x1baa1bd0080>,\n",
       " 'mydsvm': <azureml.core.compute.dsvm.DsvmCompute at 0x1baa1bd0160>,\n",
       " 'my-aks-9': <azureml.core.compute.aks.AksCompute at 0x1baa1bd0208>,\n",
       " 'gpu-cluster': <azureml.core.compute.batchai.BatchAiCompute at 0x1baa1bd0278>}"
      ]
     },
     "execution_count": 5,
     "metadata": {},
     "output_type": "execute_result"
    }
   ],
   "source": [
    "ws.compute_targets()"
   ]
  },
  {
   "cell_type": "code",
   "execution_count": 6,
   "metadata": {},
   "outputs": [],
   "source": [
    "compute_target = ws.compute_targets()['gpu-cluster']"
   ]
  },
  {
   "cell_type": "markdown",
   "metadata": {},
   "source": [
    "# Running Experiment\n",
    "Create estimator and submit job"
   ]
  },
  {
   "cell_type": "code",
   "execution_count": 7,
   "metadata": {},
   "outputs": [
    {
     "data": {
      "text/plain": [
       "['scikit-image',\n",
       " 'numpy',\n",
       " 'torch>=0.4.0',\n",
       " 'torchvision',\n",
       " 'pillow',\n",
       " 'matplotlib']"
      ]
     },
     "execution_count": 7,
     "metadata": {},
     "output_type": "execute_result"
    }
   ],
   "source": [
    "# loading up pip packages\n",
    "packages = open('requirements.txt', 'r').read().split(\"\\n\")[:-1]\n",
    "packages"
   ]
  },
  {
   "cell_type": "code",
   "execution_count": 22,
   "metadata": {},
   "outputs": [],
   "source": [
    "script_params = {\n",
    "    '--base_path': ds.as_mount(), # make sure we don't download\n",
    "    '--use_cuda': 'true'\n",
    "}\n",
    "yoloEstimator = PyTorch(source_directory='./',\n",
    "                        script_params=script_params,\n",
    "                        compute_target=compute_target,\n",
    "                        entry_script='train.py',\n",
    "                        pip_packages=packages,\n",
    "                        use_gpu=True)"
   ]
  },
  {
   "cell_type": "code",
   "execution_count": null,
   "metadata": {},
   "outputs": [],
   "source": [
    "exp = Experiment(workspace=ws, name='YOLOv3')\n",
    "run = exp.submit(yoloEstimator)\n",
    "run"
   ]
  },
  {
   "cell_type": "code",
   "execution_count": null,
   "metadata": {},
   "outputs": [],
   "source": [
    "RunDetails(run).show()"
   ]
  },
  {
   "cell_type": "code",
   "execution_count": null,
   "metadata": {},
   "outputs": [],
   "source": []
  }
 ],
 "metadata": {
  "kernelspec": {
   "display_name": "Python 3",
   "language": "python",
   "name": "python3"
  },
  "language_info": {
   "codemirror_mode": {
    "name": "ipython",
    "version": 3
   },
   "file_extension": ".py",
   "mimetype": "text/x-python",
   "name": "python",
   "nbconvert_exporter": "python",
   "pygments_lexer": "ipython3",
   "version": "3.6.5"
  }
 },
 "nbformat": 4,
 "nbformat_minor": 2
}
